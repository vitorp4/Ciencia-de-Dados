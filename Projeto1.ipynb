{
  "nbformat": 4,
  "nbformat_minor": 0,
  "metadata": {
    "colab": {
      "name": "Projeto1.ipynb",
      "provenance": [],
      "collapsed_sections": []
    },
    "kernelspec": {
      "display_name": "Python 3",
      "name": "python3"
    }
  },
  "cells": [
    {
      "cell_type": "markdown",
      "metadata": {
        "id": "NV6oAan22ApP"
      },
      "source": [
        "# Análise de dados NHANES 2017-2018\n",
        "Esta análise consiste do estudo de dados demográficos, de medidas corporais e pressão sanguínea obtido através do programa NHANES (National Health and Nutrition Examination Survey) conduzido nos Estados Unidos da América durante os anos de 2017-2018. <br>\n",
        "Fonte: https://wwwn.cdc.gov/nchs/nhanes/continuousnhanes/default.aspx?BeginYear=2017"
      ]
    },
    {
      "cell_type": "code",
      "metadata": {
        "id": "Ohmwc1NciUO2",
        "colab": {
          "base_uri": "https://localhost:8080/"
        },
        "outputId": "94815b95-0504-40b2-9f2f-2b8e1f464ffd"
      },
      "source": [
        "import numpy as np\n",
        "import pandas as pd\n",
        "import seaborn as sns\n",
        "import matplotlib.pyplot as plt\n",
        "from scipy import stats\n",
        "from google.colab import drive\n",
        "drive.mount('/content/gdrive')"
      ],
      "execution_count": 11,
      "outputs": [
        {
          "output_type": "stream",
          "text": [
            "Drive already mounted at /content/gdrive; to attempt to forcibly remount, call drive.mount(\"/content/gdrive\", force_remount=True).\n"
          ],
          "name": "stdout"
        }
      ]
    },
    {
      "cell_type": "markdown",
      "metadata": {
        "id": "__siKY1k4Yhh"
      },
      "source": [
        "## Tratamento inicial dos dados"
      ]
    },
    {
      "cell_type": "markdown",
      "metadata": {
        "id": "XLDNJkeE_W8-"
      },
      "source": [
        "Inicialmente, serão importados os dados demográficos dos pacientes examinados. O dataset DEMO_J possui diversas colunas, porém apenas quatro delas serão mantidas, são elas:\n",
        "\n",
        "Coluna | Significado | Tipo | Unidade\n",
        "-----|---|---|-----\n",
        "RIAGENDR | Gênero | Categórico | -\n",
        "RIDAGEYR| Idade | Numérico | Anos\n",
        "DMDEDUC2 | Escolaridade | Categórico | -\n",
        "DMDMARTL | Estado Civil | Categórico | - \n",
        "\n",
        "Devido ao custo de armazenamento, os dados categóricos estão codificados em uma representação numérica. A coluna SEQN será designada como índice visto que é composta por valores únicos cujo propósito é identificar o paciente durante o atendimento."
      ]
    },
    {
      "cell_type": "code",
      "metadata": {
        "id": "sHnGTOEbi01Z",
        "colab": {
          "base_uri": "https://localhost:8080/",
          "height": 269
        },
        "outputId": "5134f599-b72e-40e2-8bc1-96b59600260c"
      },
      "source": [
        "DEMO = pd.read_sas('/content/gdrive/My Drive/11º Período/Ciencia de Dados/DEMO_J.XPT', index='SEQN')\n",
        "DEMO = DEMO[['RIAGENDR', 'RIDAGEYR', 'DMDEDUC2', 'DMDMARTL']]\n",
        "display(DEMO.head())\n",
        "print('Linhas = {}\\nColunas = {}'.format(DEMO.shape[0], DEMO.shape[1]))"
      ],
      "execution_count": 12,
      "outputs": [
        {
          "output_type": "display_data",
          "data": {
            "text/html": [
              "<div>\n",
              "<style scoped>\n",
              "    .dataframe tbody tr th:only-of-type {\n",
              "        vertical-align: middle;\n",
              "    }\n",
              "\n",
              "    .dataframe tbody tr th {\n",
              "        vertical-align: top;\n",
              "    }\n",
              "\n",
              "    .dataframe thead th {\n",
              "        text-align: right;\n",
              "    }\n",
              "</style>\n",
              "<table border=\"1\" class=\"dataframe\">\n",
              "  <thead>\n",
              "    <tr style=\"text-align: right;\">\n",
              "      <th></th>\n",
              "      <th>RIAGENDR</th>\n",
              "      <th>RIDAGEYR</th>\n",
              "      <th>DMDEDUC2</th>\n",
              "      <th>DMDMARTL</th>\n",
              "    </tr>\n",
              "    <tr>\n",
              "      <th>SEQN</th>\n",
              "      <th></th>\n",
              "      <th></th>\n",
              "      <th></th>\n",
              "      <th></th>\n",
              "    </tr>\n",
              "  </thead>\n",
              "  <tbody>\n",
              "    <tr>\n",
              "      <th>93703.0</th>\n",
              "      <td>2.0</td>\n",
              "      <td>2.0</td>\n",
              "      <td>NaN</td>\n",
              "      <td>NaN</td>\n",
              "    </tr>\n",
              "    <tr>\n",
              "      <th>93704.0</th>\n",
              "      <td>1.0</td>\n",
              "      <td>2.0</td>\n",
              "      <td>NaN</td>\n",
              "      <td>NaN</td>\n",
              "    </tr>\n",
              "    <tr>\n",
              "      <th>93705.0</th>\n",
              "      <td>2.0</td>\n",
              "      <td>66.0</td>\n",
              "      <td>2.0</td>\n",
              "      <td>3.0</td>\n",
              "    </tr>\n",
              "    <tr>\n",
              "      <th>93706.0</th>\n",
              "      <td>1.0</td>\n",
              "      <td>18.0</td>\n",
              "      <td>NaN</td>\n",
              "      <td>NaN</td>\n",
              "    </tr>\n",
              "    <tr>\n",
              "      <th>93707.0</th>\n",
              "      <td>1.0</td>\n",
              "      <td>13.0</td>\n",
              "      <td>NaN</td>\n",
              "      <td>NaN</td>\n",
              "    </tr>\n",
              "  </tbody>\n",
              "</table>\n",
              "</div>"
            ],
            "text/plain": [
              "         RIAGENDR  RIDAGEYR  DMDEDUC2  DMDMARTL\n",
              "SEQN                                           \n",
              "93703.0       2.0       2.0       NaN       NaN\n",
              "93704.0       1.0       2.0       NaN       NaN\n",
              "93705.0       2.0      66.0       2.0       3.0\n",
              "93706.0       1.0      18.0       NaN       NaN\n",
              "93707.0       1.0      13.0       NaN       NaN"
            ]
          },
          "metadata": {
            "tags": []
          }
        },
        {
          "output_type": "stream",
          "text": [
            "Linhas = 9254\n",
            "Colunas = 4\n"
          ],
          "name": "stdout"
        }
      ]
    },
    {
      "cell_type": "markdown",
      "metadata": {
        "id": "NQ423LWRAsqP"
      },
      "source": [
        "Em seguida, traremos o dataset com as medidas corporais. Novamente, serão consideradas apenas algumas colunas de BMX_J, sendo elas:\n",
        "\n",
        "Coluna | Significado | Tipo | Unidade\n",
        "-----|---|---|-----\n",
        "BMXWT | Peso | Numérico | kg\n",
        "BMXHT| Altura | Numérico | cm"
      ]
    },
    {
      "cell_type": "code",
      "metadata": {
        "id": "S2PwtM2Ti4HO",
        "colab": {
          "base_uri": "https://localhost:8080/",
          "height": 269
        },
        "outputId": "aee3422a-e77b-4165-81b5-2dcbcc63b83d"
      },
      "source": [
        "BMX = pd.read_sas('/content/gdrive/My Drive/11º Período/Ciencia de Dados/BMX_J.XPT', index='SEQN')\n",
        "BMX = BMX[['BMXWT', 'BMXHT']]\n",
        "display(BMX.head())\n",
        "print('Linhas = {}\\nColunas = {}'.format(BMX.shape[0], BMX.shape[1]))"
      ],
      "execution_count": 13,
      "outputs": [
        {
          "output_type": "display_data",
          "data": {
            "text/html": [
              "<div>\n",
              "<style scoped>\n",
              "    .dataframe tbody tr th:only-of-type {\n",
              "        vertical-align: middle;\n",
              "    }\n",
              "\n",
              "    .dataframe tbody tr th {\n",
              "        vertical-align: top;\n",
              "    }\n",
              "\n",
              "    .dataframe thead th {\n",
              "        text-align: right;\n",
              "    }\n",
              "</style>\n",
              "<table border=\"1\" class=\"dataframe\">\n",
              "  <thead>\n",
              "    <tr style=\"text-align: right;\">\n",
              "      <th></th>\n",
              "      <th>BMXWT</th>\n",
              "      <th>BMXHT</th>\n",
              "    </tr>\n",
              "    <tr>\n",
              "      <th>SEQN</th>\n",
              "      <th></th>\n",
              "      <th></th>\n",
              "    </tr>\n",
              "  </thead>\n",
              "  <tbody>\n",
              "    <tr>\n",
              "      <th>93703.0</th>\n",
              "      <td>13.7</td>\n",
              "      <td>88.6</td>\n",
              "    </tr>\n",
              "    <tr>\n",
              "      <th>93704.0</th>\n",
              "      <td>13.9</td>\n",
              "      <td>94.2</td>\n",
              "    </tr>\n",
              "    <tr>\n",
              "      <th>93705.0</th>\n",
              "      <td>79.5</td>\n",
              "      <td>158.3</td>\n",
              "    </tr>\n",
              "    <tr>\n",
              "      <th>93706.0</th>\n",
              "      <td>66.3</td>\n",
              "      <td>175.7</td>\n",
              "    </tr>\n",
              "    <tr>\n",
              "      <th>93707.0</th>\n",
              "      <td>45.4</td>\n",
              "      <td>158.4</td>\n",
              "    </tr>\n",
              "  </tbody>\n",
              "</table>\n",
              "</div>"
            ],
            "text/plain": [
              "         BMXWT  BMXHT\n",
              "SEQN                 \n",
              "93703.0   13.7   88.6\n",
              "93704.0   13.9   94.2\n",
              "93705.0   79.5  158.3\n",
              "93706.0   66.3  175.7\n",
              "93707.0   45.4  158.4"
            ]
          },
          "metadata": {
            "tags": []
          }
        },
        {
          "output_type": "stream",
          "text": [
            "Linhas = 8704\n",
            "Colunas = 2\n"
          ],
          "name": "stdout"
        }
      ]
    },
    {
      "cell_type": "markdown",
      "metadata": {
        "id": "yFNIsFgBD58F"
      },
      "source": [
        "Por último, mas não menos importante, o dataset com as medidas de pressão arterial. De BMX_J, estudaremos apenas:\n",
        "\n",
        "Coluna | Significado | Tipo | Unidade\n",
        "-----|---|---|-----\n",
        "BPXSY1 | Sístole1 | Numérico | mmHg\n",
        "BPXDI1| Diástole1 | Numérico | mmHg\n",
        "BPXSY2 | Sístole2 | Numérico | mmHg\n",
        "BPXDI2| Diástole2 | Numérico | mmHg"
      ]
    },
    {
      "cell_type": "code",
      "metadata": {
        "id": "GuorMjUVtHGu",
        "colab": {
          "base_uri": "https://localhost:8080/",
          "height": 269
        },
        "outputId": "31ecfad5-3df1-4616-e709-c1dc0fc7173b"
      },
      "source": [
        "BPX = pd.read_sas('/content/gdrive/My Drive/11º Período/Ciencia de Dados/BPX_J.XPT', index='SEQN') \n",
        "BPX = BPX[['BPXSY1', 'BPXDI1', 'BPXSY2', 'BPXDI2']]\n",
        "display(BPX.head())\n",
        "print('Linhas = {}\\nColunas = {}'.format(BPX.shape[0], BPX.shape[1]))"
      ],
      "execution_count": 14,
      "outputs": [
        {
          "output_type": "display_data",
          "data": {
            "text/html": [
              "<div>\n",
              "<style scoped>\n",
              "    .dataframe tbody tr th:only-of-type {\n",
              "        vertical-align: middle;\n",
              "    }\n",
              "\n",
              "    .dataframe tbody tr th {\n",
              "        vertical-align: top;\n",
              "    }\n",
              "\n",
              "    .dataframe thead th {\n",
              "        text-align: right;\n",
              "    }\n",
              "</style>\n",
              "<table border=\"1\" class=\"dataframe\">\n",
              "  <thead>\n",
              "    <tr style=\"text-align: right;\">\n",
              "      <th></th>\n",
              "      <th>BPXSY1</th>\n",
              "      <th>BPXDI1</th>\n",
              "      <th>BPXSY2</th>\n",
              "      <th>BPXDI2</th>\n",
              "    </tr>\n",
              "    <tr>\n",
              "      <th>SEQN</th>\n",
              "      <th></th>\n",
              "      <th></th>\n",
              "      <th></th>\n",
              "      <th></th>\n",
              "    </tr>\n",
              "  </thead>\n",
              "  <tbody>\n",
              "    <tr>\n",
              "      <th>93703.0</th>\n",
              "      <td>NaN</td>\n",
              "      <td>NaN</td>\n",
              "      <td>NaN</td>\n",
              "      <td>NaN</td>\n",
              "    </tr>\n",
              "    <tr>\n",
              "      <th>93704.0</th>\n",
              "      <td>NaN</td>\n",
              "      <td>NaN</td>\n",
              "      <td>NaN</td>\n",
              "      <td>NaN</td>\n",
              "    </tr>\n",
              "    <tr>\n",
              "      <th>93705.0</th>\n",
              "      <td>NaN</td>\n",
              "      <td>NaN</td>\n",
              "      <td>NaN</td>\n",
              "      <td>NaN</td>\n",
              "    </tr>\n",
              "    <tr>\n",
              "      <th>93706.0</th>\n",
              "      <td>112.0</td>\n",
              "      <td>74.0</td>\n",
              "      <td>114.0</td>\n",
              "      <td>70.0</td>\n",
              "    </tr>\n",
              "    <tr>\n",
              "      <th>93707.0</th>\n",
              "      <td>128.0</td>\n",
              "      <td>38.0</td>\n",
              "      <td>128.0</td>\n",
              "      <td>46.0</td>\n",
              "    </tr>\n",
              "  </tbody>\n",
              "</table>\n",
              "</div>"
            ],
            "text/plain": [
              "         BPXSY1  BPXDI1  BPXSY2  BPXDI2\n",
              "SEQN                                   \n",
              "93703.0     NaN     NaN     NaN     NaN\n",
              "93704.0     NaN     NaN     NaN     NaN\n",
              "93705.0     NaN     NaN     NaN     NaN\n",
              "93706.0   112.0    74.0   114.0    70.0\n",
              "93707.0   128.0    38.0   128.0    46.0"
            ]
          },
          "metadata": {
            "tags": []
          }
        },
        {
          "output_type": "stream",
          "text": [
            "Linhas = 8704\n",
            "Colunas = 4\n"
          ],
          "name": "stdout"
        }
      ]
    },
    {
      "cell_type": "markdown",
      "metadata": {
        "id": "SXaMwNCjFoWg"
      },
      "source": [
        "Devido ao fato de que cada paciente é unicamente identificado pelo seu número de sequência, e que não necessariamente ele esteja presente em todos os três datasets, será feito um inner join. A ideia é ter um dataframe final com todas as colunas de interesse."
      ]
    },
    {
      "cell_type": "code",
      "metadata": {
        "id": "v7r7e7XRtPrm",
        "colab": {
          "base_uri": "https://localhost:8080/",
          "height": 269
        },
        "outputId": "7eea6d94-8ad6-4316-e63f-8d961dca146b"
      },
      "source": [
        "df = pd.merge(DEMO, BMX, left_index=True, right_index=True, how='inner')\n",
        "df = pd.merge(df, BPX, left_index=True, right_index=True, how='inner')\n",
        "display(df.head())\n",
        "print('Linhas = {}\\nColunas = {}'.format(df.shape[0], df.shape[1]))"
      ],
      "execution_count": 15,
      "outputs": [
        {
          "output_type": "display_data",
          "data": {
            "text/html": [
              "<div>\n",
              "<style scoped>\n",
              "    .dataframe tbody tr th:only-of-type {\n",
              "        vertical-align: middle;\n",
              "    }\n",
              "\n",
              "    .dataframe tbody tr th {\n",
              "        vertical-align: top;\n",
              "    }\n",
              "\n",
              "    .dataframe thead th {\n",
              "        text-align: right;\n",
              "    }\n",
              "</style>\n",
              "<table border=\"1\" class=\"dataframe\">\n",
              "  <thead>\n",
              "    <tr style=\"text-align: right;\">\n",
              "      <th></th>\n",
              "      <th>RIAGENDR</th>\n",
              "      <th>RIDAGEYR</th>\n",
              "      <th>DMDEDUC2</th>\n",
              "      <th>DMDMARTL</th>\n",
              "      <th>BMXWT</th>\n",
              "      <th>BMXHT</th>\n",
              "      <th>BPXSY1</th>\n",
              "      <th>BPXDI1</th>\n",
              "      <th>BPXSY2</th>\n",
              "      <th>BPXDI2</th>\n",
              "    </tr>\n",
              "    <tr>\n",
              "      <th>SEQN</th>\n",
              "      <th></th>\n",
              "      <th></th>\n",
              "      <th></th>\n",
              "      <th></th>\n",
              "      <th></th>\n",
              "      <th></th>\n",
              "      <th></th>\n",
              "      <th></th>\n",
              "      <th></th>\n",
              "      <th></th>\n",
              "    </tr>\n",
              "  </thead>\n",
              "  <tbody>\n",
              "    <tr>\n",
              "      <th>93703.0</th>\n",
              "      <td>2.0</td>\n",
              "      <td>2.0</td>\n",
              "      <td>NaN</td>\n",
              "      <td>NaN</td>\n",
              "      <td>13.7</td>\n",
              "      <td>88.6</td>\n",
              "      <td>NaN</td>\n",
              "      <td>NaN</td>\n",
              "      <td>NaN</td>\n",
              "      <td>NaN</td>\n",
              "    </tr>\n",
              "    <tr>\n",
              "      <th>93704.0</th>\n",
              "      <td>1.0</td>\n",
              "      <td>2.0</td>\n",
              "      <td>NaN</td>\n",
              "      <td>NaN</td>\n",
              "      <td>13.9</td>\n",
              "      <td>94.2</td>\n",
              "      <td>NaN</td>\n",
              "      <td>NaN</td>\n",
              "      <td>NaN</td>\n",
              "      <td>NaN</td>\n",
              "    </tr>\n",
              "    <tr>\n",
              "      <th>93705.0</th>\n",
              "      <td>2.0</td>\n",
              "      <td>66.0</td>\n",
              "      <td>2.0</td>\n",
              "      <td>3.0</td>\n",
              "      <td>79.5</td>\n",
              "      <td>158.3</td>\n",
              "      <td>NaN</td>\n",
              "      <td>NaN</td>\n",
              "      <td>NaN</td>\n",
              "      <td>NaN</td>\n",
              "    </tr>\n",
              "    <tr>\n",
              "      <th>93706.0</th>\n",
              "      <td>1.0</td>\n",
              "      <td>18.0</td>\n",
              "      <td>NaN</td>\n",
              "      <td>NaN</td>\n",
              "      <td>66.3</td>\n",
              "      <td>175.7</td>\n",
              "      <td>112.0</td>\n",
              "      <td>74.0</td>\n",
              "      <td>114.0</td>\n",
              "      <td>70.0</td>\n",
              "    </tr>\n",
              "    <tr>\n",
              "      <th>93707.0</th>\n",
              "      <td>1.0</td>\n",
              "      <td>13.0</td>\n",
              "      <td>NaN</td>\n",
              "      <td>NaN</td>\n",
              "      <td>45.4</td>\n",
              "      <td>158.4</td>\n",
              "      <td>128.0</td>\n",
              "      <td>38.0</td>\n",
              "      <td>128.0</td>\n",
              "      <td>46.0</td>\n",
              "    </tr>\n",
              "  </tbody>\n",
              "</table>\n",
              "</div>"
            ],
            "text/plain": [
              "         RIAGENDR  RIDAGEYR  DMDEDUC2  DMDMARTL  ...  BPXSY1  BPXDI1  BPXSY2  BPXDI2\n",
              "SEQN                                             ...                                \n",
              "93703.0       2.0       2.0       NaN       NaN  ...     NaN     NaN     NaN     NaN\n",
              "93704.0       1.0       2.0       NaN       NaN  ...     NaN     NaN     NaN     NaN\n",
              "93705.0       2.0      66.0       2.0       3.0  ...     NaN     NaN     NaN     NaN\n",
              "93706.0       1.0      18.0       NaN       NaN  ...   112.0    74.0   114.0    70.0\n",
              "93707.0       1.0      13.0       NaN       NaN  ...   128.0    38.0   128.0    46.0\n",
              "\n",
              "[5 rows x 10 columns]"
            ]
          },
          "metadata": {
            "tags": []
          }
        },
        {
          "output_type": "stream",
          "text": [
            "Linhas = 8704\n",
            "Colunas = 10\n"
          ],
          "name": "stdout"
        }
      ]
    },
    {
      "cell_type": "markdown",
      "metadata": {
        "id": "j5szSuFAHtMx"
      },
      "source": [
        "Por questões de uma melhor compreensão do conteúdo do dataframe, as colunas terão novos rótulos e os dados de colunas categóricas serão decodificados de uma representação numérica para strings com significado em linguagem natural.  "
      ]
    },
    {
      "cell_type": "code",
      "metadata": {
        "id": "jFseK5tstyDy",
        "colab": {
          "base_uri": "https://localhost:8080/",
          "height": 269
        },
        "outputId": "2dc2124f-8932-4bee-ca18-48871843c90b"
      },
      "source": [
        "df.columns = ['Gender','Age','Education','Marital','Weight','Height','Systole1','Diastole1','Systole2','Diastole2']\n",
        "df.Gender = df.Gender.replace({1.0: 'Male', 2.0: 'Female'})\n",
        "df.Education = df.Education.replace({1.0: '-9th', 2.0: '9-11th', 3.0: 'High School', 4.0: 'Some College', 5.0: 'Graduate+', 7.0: 'Refused', 8.0: 'Don\\'t Know'})\n",
        "df.Marital = df.Marital.replace({1.0: 'Married', 2.0: 'Widowed', 3.0: 'Divorced', 4.0: 'Separated', 5.0: 'Never Married', 6.0: 'Living With Partner', 77: 'Refused', 99: 'Don\\'t Know'})\n",
        "display(df.head())\n",
        "print('Linhas = {}\\nColunas = {}'.format(df.shape[0], df.shape[1]))"
      ],
      "execution_count": 16,
      "outputs": [
        {
          "output_type": "display_data",
          "data": {
            "text/html": [
              "<div>\n",
              "<style scoped>\n",
              "    .dataframe tbody tr th:only-of-type {\n",
              "        vertical-align: middle;\n",
              "    }\n",
              "\n",
              "    .dataframe tbody tr th {\n",
              "        vertical-align: top;\n",
              "    }\n",
              "\n",
              "    .dataframe thead th {\n",
              "        text-align: right;\n",
              "    }\n",
              "</style>\n",
              "<table border=\"1\" class=\"dataframe\">\n",
              "  <thead>\n",
              "    <tr style=\"text-align: right;\">\n",
              "      <th></th>\n",
              "      <th>Gender</th>\n",
              "      <th>Age</th>\n",
              "      <th>Education</th>\n",
              "      <th>Marital</th>\n",
              "      <th>Weight</th>\n",
              "      <th>Height</th>\n",
              "      <th>Systole1</th>\n",
              "      <th>Diastole1</th>\n",
              "      <th>Systole2</th>\n",
              "      <th>Diastole2</th>\n",
              "    </tr>\n",
              "    <tr>\n",
              "      <th>SEQN</th>\n",
              "      <th></th>\n",
              "      <th></th>\n",
              "      <th></th>\n",
              "      <th></th>\n",
              "      <th></th>\n",
              "      <th></th>\n",
              "      <th></th>\n",
              "      <th></th>\n",
              "      <th></th>\n",
              "      <th></th>\n",
              "    </tr>\n",
              "  </thead>\n",
              "  <tbody>\n",
              "    <tr>\n",
              "      <th>93703.0</th>\n",
              "      <td>Female</td>\n",
              "      <td>2.0</td>\n",
              "      <td>NaN</td>\n",
              "      <td>NaN</td>\n",
              "      <td>13.7</td>\n",
              "      <td>88.6</td>\n",
              "      <td>NaN</td>\n",
              "      <td>NaN</td>\n",
              "      <td>NaN</td>\n",
              "      <td>NaN</td>\n",
              "    </tr>\n",
              "    <tr>\n",
              "      <th>93704.0</th>\n",
              "      <td>Male</td>\n",
              "      <td>2.0</td>\n",
              "      <td>NaN</td>\n",
              "      <td>NaN</td>\n",
              "      <td>13.9</td>\n",
              "      <td>94.2</td>\n",
              "      <td>NaN</td>\n",
              "      <td>NaN</td>\n",
              "      <td>NaN</td>\n",
              "      <td>NaN</td>\n",
              "    </tr>\n",
              "    <tr>\n",
              "      <th>93705.0</th>\n",
              "      <td>Female</td>\n",
              "      <td>66.0</td>\n",
              "      <td>9-11th</td>\n",
              "      <td>Divorced</td>\n",
              "      <td>79.5</td>\n",
              "      <td>158.3</td>\n",
              "      <td>NaN</td>\n",
              "      <td>NaN</td>\n",
              "      <td>NaN</td>\n",
              "      <td>NaN</td>\n",
              "    </tr>\n",
              "    <tr>\n",
              "      <th>93706.0</th>\n",
              "      <td>Male</td>\n",
              "      <td>18.0</td>\n",
              "      <td>NaN</td>\n",
              "      <td>NaN</td>\n",
              "      <td>66.3</td>\n",
              "      <td>175.7</td>\n",
              "      <td>112.0</td>\n",
              "      <td>74.0</td>\n",
              "      <td>114.0</td>\n",
              "      <td>70.0</td>\n",
              "    </tr>\n",
              "    <tr>\n",
              "      <th>93707.0</th>\n",
              "      <td>Male</td>\n",
              "      <td>13.0</td>\n",
              "      <td>NaN</td>\n",
              "      <td>NaN</td>\n",
              "      <td>45.4</td>\n",
              "      <td>158.4</td>\n",
              "      <td>128.0</td>\n",
              "      <td>38.0</td>\n",
              "      <td>128.0</td>\n",
              "      <td>46.0</td>\n",
              "    </tr>\n",
              "  </tbody>\n",
              "</table>\n",
              "</div>"
            ],
            "text/plain": [
              "         Gender   Age Education  ... Diastole1  Systole2  Diastole2\n",
              "SEQN                             ...                               \n",
              "93703.0  Female   2.0       NaN  ...       NaN       NaN        NaN\n",
              "93704.0    Male   2.0       NaN  ...       NaN       NaN        NaN\n",
              "93705.0  Female  66.0    9-11th  ...       NaN       NaN        NaN\n",
              "93706.0    Male  18.0       NaN  ...      74.0     114.0       70.0\n",
              "93707.0    Male  13.0       NaN  ...      38.0     128.0       46.0\n",
              "\n",
              "[5 rows x 10 columns]"
            ]
          },
          "metadata": {
            "tags": []
          }
        },
        {
          "output_type": "stream",
          "text": [
            "Linhas = 8704\n",
            "Colunas = 10\n"
          ],
          "name": "stdout"
        }
      ]
    },
    {
      "cell_type": "markdown",
      "metadata": {
        "id": "VrW_jfiMHEmV"
      },
      "source": [
        "No geral, devido a discrepância entre os dados de crianças e adultos, a análise que se segue considerará apenas as pessoas examinadas que tenham mais de 18 anos de idade. Adicionalmente, converteremos os dados de altura de centímetros (cm) para metros (m) a fim de integrar uma nova coluna ao dataframe: o índice de massa corporal ou BMI."
      ]
    },
    {
      "cell_type": "code",
      "metadata": {
        "id": "6C5xoSdjzFm1",
        "colab": {
          "base_uri": "https://localhost:8080/",
          "height": 269
        },
        "outputId": "9b1d1f56-b73b-4a36-c844-2d79e09fd8a1"
      },
      "source": [
        "df = df[df['Age']>=18.0].copy()\n",
        "\n",
        "df['Height'] = df['Height']*0.01\n",
        "df['BMI'] = df['Weight']/(df['Height']**2)\n",
        "display(df.head())\n",
        "print('Linhas = {}\\nColunas = {}'.format(df.shape[0], df.shape[1]))"
      ],
      "execution_count": 17,
      "outputs": [
        {
          "output_type": "display_data",
          "data": {
            "text/html": [
              "<div>\n",
              "<style scoped>\n",
              "    .dataframe tbody tr th:only-of-type {\n",
              "        vertical-align: middle;\n",
              "    }\n",
              "\n",
              "    .dataframe tbody tr th {\n",
              "        vertical-align: top;\n",
              "    }\n",
              "\n",
              "    .dataframe thead th {\n",
              "        text-align: right;\n",
              "    }\n",
              "</style>\n",
              "<table border=\"1\" class=\"dataframe\">\n",
              "  <thead>\n",
              "    <tr style=\"text-align: right;\">\n",
              "      <th></th>\n",
              "      <th>Gender</th>\n",
              "      <th>Age</th>\n",
              "      <th>Education</th>\n",
              "      <th>Marital</th>\n",
              "      <th>Weight</th>\n",
              "      <th>Height</th>\n",
              "      <th>Systole1</th>\n",
              "      <th>Diastole1</th>\n",
              "      <th>Systole2</th>\n",
              "      <th>Diastole2</th>\n",
              "      <th>BMI</th>\n",
              "    </tr>\n",
              "    <tr>\n",
              "      <th>SEQN</th>\n",
              "      <th></th>\n",
              "      <th></th>\n",
              "      <th></th>\n",
              "      <th></th>\n",
              "      <th></th>\n",
              "      <th></th>\n",
              "      <th></th>\n",
              "      <th></th>\n",
              "      <th></th>\n",
              "      <th></th>\n",
              "      <th></th>\n",
              "    </tr>\n",
              "  </thead>\n",
              "  <tbody>\n",
              "    <tr>\n",
              "      <th>93705.0</th>\n",
              "      <td>Female</td>\n",
              "      <td>66.0</td>\n",
              "      <td>9-11th</td>\n",
              "      <td>Divorced</td>\n",
              "      <td>79.5</td>\n",
              "      <td>1.583</td>\n",
              "      <td>NaN</td>\n",
              "      <td>NaN</td>\n",
              "      <td>NaN</td>\n",
              "      <td>NaN</td>\n",
              "      <td>31.725268</td>\n",
              "    </tr>\n",
              "    <tr>\n",
              "      <th>93706.0</th>\n",
              "      <td>Male</td>\n",
              "      <td>18.0</td>\n",
              "      <td>NaN</td>\n",
              "      <td>NaN</td>\n",
              "      <td>66.3</td>\n",
              "      <td>1.757</td>\n",
              "      <td>112.0</td>\n",
              "      <td>74.0</td>\n",
              "      <td>114.0</td>\n",
              "      <td>70.0</td>\n",
              "      <td>21.476821</td>\n",
              "    </tr>\n",
              "    <tr>\n",
              "      <th>93708.0</th>\n",
              "      <td>Female</td>\n",
              "      <td>66.0</td>\n",
              "      <td>-9th</td>\n",
              "      <td>Married</td>\n",
              "      <td>53.5</td>\n",
              "      <td>1.502</td>\n",
              "      <td>NaN</td>\n",
              "      <td>NaN</td>\n",
              "      <td>138.0</td>\n",
              "      <td>78.0</td>\n",
              "      <td>23.714497</td>\n",
              "    </tr>\n",
              "    <tr>\n",
              "      <th>93709.0</th>\n",
              "      <td>Female</td>\n",
              "      <td>75.0</td>\n",
              "      <td>Some College</td>\n",
              "      <td>Widowed</td>\n",
              "      <td>88.8</td>\n",
              "      <td>1.511</td>\n",
              "      <td>120.0</td>\n",
              "      <td>66.0</td>\n",
              "      <td>118.0</td>\n",
              "      <td>66.0</td>\n",
              "      <td>38.894128</td>\n",
              "    </tr>\n",
              "    <tr>\n",
              "      <th>93711.0</th>\n",
              "      <td>Male</td>\n",
              "      <td>56.0</td>\n",
              "      <td>Graduate+</td>\n",
              "      <td>Married</td>\n",
              "      <td>62.1</td>\n",
              "      <td>1.706</td>\n",
              "      <td>108.0</td>\n",
              "      <td>68.0</td>\n",
              "      <td>94.0</td>\n",
              "      <td>68.0</td>\n",
              "      <td>21.337009</td>\n",
              "    </tr>\n",
              "  </tbody>\n",
              "</table>\n",
              "</div>"
            ],
            "text/plain": [
              "         Gender   Age     Education  ... Systole2  Diastole2        BMI\n",
              "SEQN                                 ...                               \n",
              "93705.0  Female  66.0        9-11th  ...      NaN        NaN  31.725268\n",
              "93706.0    Male  18.0           NaN  ...    114.0       70.0  21.476821\n",
              "93708.0  Female  66.0          -9th  ...    138.0       78.0  23.714497\n",
              "93709.0  Female  75.0  Some College  ...    118.0       66.0  38.894128\n",
              "93711.0    Male  56.0     Graduate+  ...     94.0       68.0  21.337009\n",
              "\n",
              "[5 rows x 11 columns]"
            ]
          },
          "metadata": {
            "tags": []
          }
        },
        {
          "output_type": "stream",
          "text": [
            "Linhas = 5533\n",
            "Colunas = 11\n"
          ],
          "name": "stdout"
        }
      ]
    },
    {
      "cell_type": "code",
      "metadata": {
        "id": "oKR76Yv9U6Q3",
        "colab": {
          "base_uri": "https://localhost:8080/",
          "height": 297
        },
        "outputId": "1c6141d8-7e83-4ee5-810c-0d2d8d26896c"
      },
      "source": [
        "df.describe()"
      ],
      "execution_count": 18,
      "outputs": [
        {
          "output_type": "execute_result",
          "data": {
            "text/html": [
              "<div>\n",
              "<style scoped>\n",
              "    .dataframe tbody tr th:only-of-type {\n",
              "        vertical-align: middle;\n",
              "    }\n",
              "\n",
              "    .dataframe tbody tr th {\n",
              "        vertical-align: top;\n",
              "    }\n",
              "\n",
              "    .dataframe thead th {\n",
              "        text-align: right;\n",
              "    }\n",
              "</style>\n",
              "<table border=\"1\" class=\"dataframe\">\n",
              "  <thead>\n",
              "    <tr style=\"text-align: right;\">\n",
              "      <th></th>\n",
              "      <th>Age</th>\n",
              "      <th>Weight</th>\n",
              "      <th>Height</th>\n",
              "      <th>Systole1</th>\n",
              "      <th>Diastole1</th>\n",
              "      <th>Systole2</th>\n",
              "      <th>Diastole2</th>\n",
              "      <th>BMI</th>\n",
              "    </tr>\n",
              "  </thead>\n",
              "  <tbody>\n",
              "    <tr>\n",
              "      <th>count</th>\n",
              "      <td>5533.000000</td>\n",
              "      <td>5444.000000</td>\n",
              "      <td>5444.000000</td>\n",
              "      <td>4899.000000</td>\n",
              "      <td>4.899000e+03</td>\n",
              "      <td>5128.000000</td>\n",
              "      <td>5.128000e+03</td>\n",
              "      <td>5434.000000</td>\n",
              "    </tr>\n",
              "    <tr>\n",
              "      <th>mean</th>\n",
              "      <td>49.816555</td>\n",
              "      <td>82.468993</td>\n",
              "      <td>1.663623</td>\n",
              "      <td>125.984895</td>\n",
              "      <td>7.165462e+01</td>\n",
              "      <td>126.246490</td>\n",
              "      <td>7.210686e+01</td>\n",
              "      <td>29.691481</td>\n",
              "    </tr>\n",
              "    <tr>\n",
              "      <th>std</th>\n",
              "      <td>18.649364</td>\n",
              "      <td>22.980417</td>\n",
              "      <td>0.100669</td>\n",
              "      <td>19.728263</td>\n",
              "      <td>1.356110e+01</td>\n",
              "      <td>20.282001</td>\n",
              "      <td>1.313658e+01</td>\n",
              "      <td>7.439997</td>\n",
              "    </tr>\n",
              "    <tr>\n",
              "      <th>min</th>\n",
              "      <td>18.000000</td>\n",
              "      <td>32.600000</td>\n",
              "      <td>1.383000</td>\n",
              "      <td>72.000000</td>\n",
              "      <td>5.397605e-79</td>\n",
              "      <td>72.000000</td>\n",
              "      <td>5.397605e-79</td>\n",
              "      <td>14.203401</td>\n",
              "    </tr>\n",
              "    <tr>\n",
              "      <th>25%</th>\n",
              "      <td>33.000000</td>\n",
              "      <td>66.500000</td>\n",
              "      <td>1.589000</td>\n",
              "      <td>112.000000</td>\n",
              "      <td>6.400000e+01</td>\n",
              "      <td>112.000000</td>\n",
              "      <td>6.400000e+01</td>\n",
              "      <td>24.576145</td>\n",
              "    </tr>\n",
              "    <tr>\n",
              "      <th>50%</th>\n",
              "      <td>51.000000</td>\n",
              "      <td>78.900000</td>\n",
              "      <td>1.659000</td>\n",
              "      <td>124.000000</td>\n",
              "      <td>7.200000e+01</td>\n",
              "      <td>124.000000</td>\n",
              "      <td>7.200000e+01</td>\n",
              "      <td>28.457344</td>\n",
              "    </tr>\n",
              "    <tr>\n",
              "      <th>75%</th>\n",
              "      <td>65.000000</td>\n",
              "      <td>94.500000</td>\n",
              "      <td>1.736000</td>\n",
              "      <td>136.000000</td>\n",
              "      <td>8.000000e+01</td>\n",
              "      <td>136.000000</td>\n",
              "      <td>8.000000e+01</td>\n",
              "      <td>33.489376</td>\n",
              "    </tr>\n",
              "    <tr>\n",
              "      <th>max</th>\n",
              "      <td>80.000000</td>\n",
              "      <td>242.600000</td>\n",
              "      <td>1.977000</td>\n",
              "      <td>228.000000</td>\n",
              "      <td>1.360000e+02</td>\n",
              "      <td>236.000000</td>\n",
              "      <td>1.360000e+02</td>\n",
              "      <td>86.160237</td>\n",
              "    </tr>\n",
              "  </tbody>\n",
              "</table>\n",
              "</div>"
            ],
            "text/plain": [
              "               Age       Weight  ...     Diastole2          BMI\n",
              "count  5533.000000  5444.000000  ...  5.128000e+03  5434.000000\n",
              "mean     49.816555    82.468993  ...  7.210686e+01    29.691481\n",
              "std      18.649364    22.980417  ...  1.313658e+01     7.439997\n",
              "min      18.000000    32.600000  ...  5.397605e-79    14.203401\n",
              "25%      33.000000    66.500000  ...  6.400000e+01    24.576145\n",
              "50%      51.000000    78.900000  ...  7.200000e+01    28.457344\n",
              "75%      65.000000    94.500000  ...  8.000000e+01    33.489376\n",
              "max      80.000000   242.600000  ...  1.360000e+02    86.160237\n",
              "\n",
              "[8 rows x 8 columns]"
            ]
          },
          "metadata": {
            "tags": []
          },
          "execution_count": 18
        }
      ]
    },
    {
      "cell_type": "markdown",
      "metadata": {
        "id": "zzwtlcMK99EC"
      },
      "source": [
        "O método *describe* acima revela que:\n",
        "* A contagem de dados totais por coluna não é igual, isso implica na presença de NaNs. \n",
        "* A idade mínima é 18 anos, confirmando que a seleção de adultos foi de fato realizada. Enquanto a idade máxima é 80 anos.\n",
        "* Como a média dos pesos é maior que a mediana, então a distribuição deve ser enviesada positivamente e possuir outliers à direita, o que na verdade já é possível perceber pelo peso máximo de 242.6kg. \n",
        "* O formato da distribuição dos pesos parece ser propagada ao índice de massa corporal, já que são diretamente proporcionais e a distribuição das alturas dá indícios de simetria devido às diferenças entre os quartis.\n",
        "* As duas medidas de pressão sistólica possuem exatamente os mesmos 1º, 2º e 3º quartis. Entretando diferem em média. Será que essa diferença é estatisticamente significativa? A mesma afirmação e questionamento valem para as duas medidas de pressão diastólica."
      ]
    },
    {
      "cell_type": "code",
      "metadata": {
        "id": "nggfbgE0FwkW",
        "colab": {
          "base_uri": "https://localhost:8080/"
        },
        "outputId": "a19717a9-dbe4-4bb6-8f0e-9b4a8a54a6c9"
      },
      "source": [
        "df.isna().sum()"
      ],
      "execution_count": 19,
      "outputs": [
        {
          "output_type": "execute_result",
          "data": {
            "text/plain": [
              "Gender         0\n",
              "Age            0\n",
              "Education    268\n",
              "Marital      268\n",
              "Weight        89\n",
              "Height        89\n",
              "Systole1     634\n",
              "Diastole1    634\n",
              "Systole2     405\n",
              "Diastole2    405\n",
              "BMI           99\n",
              "dtype: int64"
            ]
          },
          "metadata": {
            "tags": []
          },
          "execution_count": 19
        }
      ]
    },
    {
      "cell_type": "markdown",
      "metadata": {
        "id": "vsV8VNNyJeUB"
      },
      "source": [
        "Visualizando a contagem de NaNs por coluna, podemos concluir que mesmo para os casos onde há uma maior quantidade de dados ausentes, este número não é tão expressivo em comparação à quantidade total de pacientes adultos examinados, ou seja 5533. Sendo assim, quando necessário, o tratamento de dados ausentes será feito através de sua remoção."
      ]
    },
    {
      "cell_type": "markdown",
      "metadata": {
        "id": "tcc0vhs61FEb"
      },
      "source": [
        "## Analisando as medidas de pressão sistólica"
      ]
    },
    {
      "cell_type": "markdown",
      "metadata": {
        "id": "CIfqEJRTXLLB"
      },
      "source": [
        "#### Comparação entre todas as amostras de pressão sistólica 1 e 2"
      ]
    },
    {
      "cell_type": "markdown",
      "metadata": {
        "id": "fWkrP8TZQ4yl"
      },
      "source": [
        "As colunas sístole1 e sístole2 se tratam de medições realizadas uma após a outra, sendo separadas por um curto intervalo de tempo. Este procedimento serve para evitar erro humano durante o exame."
      ]
    },
    {
      "cell_type": "markdown",
      "metadata": {
        "id": "xJmkOCZpJnhn"
      },
      "source": [
        "O primeiro passo se dará pela remoção de NaNs. Criaremos um novo dataframe que seja livre de dados não valorados de sístole 1 ou 2."
      ]
    },
    {
      "cell_type": "code",
      "metadata": {
        "colab": {
          "base_uri": "https://localhost:8080/"
        },
        "id": "2uXeRkW0Efav",
        "outputId": "eb48e2a0-0203-4d38-9b2b-532a9068ddc1"
      },
      "source": [
        "df1 = df[(df['Systole1'].notna()) & (df['Systole2'].notna())]\n",
        "print('Nº de linhas removidas = {}'.format(df.shape[0] - df1.shape[0]))"
      ],
      "execution_count": 20,
      "outputs": [
        {
          "output_type": "stream",
          "text": [
            "Nº de linhas removidas = 722\n"
          ],
          "name": "stdout"
        }
      ]
    },
    {
      "cell_type": "code",
      "metadata": {
        "id": "wcdGhvwBTsfK",
        "colab": {
          "base_uri": "https://localhost:8080/",
          "height": 279
        },
        "outputId": "fa1bf4ec-1c4d-453f-895b-bf24fe32d270"
      },
      "source": [
        "fig, axes = plt.subplots(1,2, figsize=(10,4), sharex=True)\n",
        "sns.histplot(data=df1, x='Systole1', binwidth=5, ax=axes[0])\n",
        "sns.histplot(data=df1, x='Systole2', binwidth=5, ax=axes[1])\n",
        "plt.show()"
      ],
      "execution_count": 21,
      "outputs": [
        {
          "output_type": "display_data",
          "data": {
            "image/png": "[encoded data removed]",
            "text/plain": [
              "<Figure size 720x288 with 2 Axes>"
            ]
          },
          "metadata": {
            "tags": [],
            "needs_background": "light"
          }
        }
      ]
    },
    {
      "cell_type": "code",
      "metadata": {
        "id": "yXHrQhGP-s8J",
        "colab": {
          "base_uri": "https://localhost:8080/",
          "height": 296
        },
        "outputId": "216a372b-726c-4b6f-a4ef-f686a847311b"
      },
      "source": [
        "print('\\t\\tPearson corr: {:.4f}'.format(df1['Systole1'].corr(df1['Systole2'])))\n",
        "sns.scatterplot(data=df1, x='Systole1', y='Systole2');"
      ],
      "execution_count": 22,
      "outputs": [
        {
          "output_type": "stream",
          "text": [
            "\t\tPearson corr: 0.9662\n"
          ],
          "name": "stdout"
        },
        {
          "output_type": "display_data",
          "data": {
            "image/png": "[encoded data removed]",
            "text/plain": [
              "<Figure size 432x288 with 1 Axes>"
            ]
          },
          "metadata": {
            "tags": [],
            "needs_background": "light"
          }
        }
      ]
    },
    {
      "cell_type": "markdown",
      "metadata": {
        "id": "Gvl3JbOdXYx2"
      },
      "source": [
        "Através do histograma vemos que ambas as distribuições são muito semelhantes, e enviesadas positivamente como dito anteriormente. Devido a estas características devemos salientar a presença predominante de outliers à direita. O scatterplot revela que as medições de sístole são altamente correlacionadas linearmente. "
      ]
    },
    {
      "cell_type": "markdown",
      "metadata": {
        "id": "esf8t4cTWcJG"
      },
      "source": [
        "O passo seguinte se dará pela remoção de outliers das colunas sístole1 e sistole2 utilizando o método de Tukey para dados univariados."
      ]
    },
    {
      "cell_type": "code",
      "metadata": {
        "colab": {
          "base_uri": "https://localhost:8080/"
        },
        "id": "YM5nhAovTw-x",
        "outputId": "b1e41c4b-6ab8-4e2d-b23c-d0c1ea2ff65f"
      },
      "source": [
        "q1 = df1['Systole1'].quantile(q=0.25)\n",
        "q3 = df1['Systole1'].quantile(q=0.75)\n",
        "iqr = q3 - q1\n",
        "lines_before = df1.shape[0]\n",
        "df1 = df1[(df1['Systole1'] > (q1-1.5*iqr)) & (df1['Systole1'] < (q3+1.5*iqr))]\n",
        "print('Nº de linhas removidas = {}'.format(lines_before - df1.shape[0]))"
      ],
      "execution_count": 23,
      "outputs": [
        {
          "output_type": "stream",
          "text": [
            "Nº de linhas removidas = 141\n"
          ],
          "name": "stdout"
        }
      ]
    },
    {
      "cell_type": "code",
      "metadata": {
        "colab": {
          "base_uri": "https://localhost:8080/"
        },
        "id": "r21a1FYIUfGw",
        "outputId": "ac77b95a-9bb4-43d2-e8f6-db4614db4c8f"
      },
      "source": [
        "q1 = df1['Systole2'].quantile(q=0.25)\n",
        "q3 = df1['Systole2'].quantile(q=0.75)\n",
        "iqr = q3 - q1\n",
        "lines_before = df1.shape[0]\n",
        "df1 = df1[(df1['Systole2'] > (q1-1.5*iqr)) & (df1['Systole2'] < (q3+1.5*iqr))]\n",
        "print('Nº de linhas removidas = {}\\nNº de linhas restantes = {}'.format(lines_before - df1.shape[0], df1.shape[0]))"
      ],
      "execution_count": 24,
      "outputs": [
        {
          "output_type": "stream",
          "text": [
            "Nº de linhas removidas = 58\n",
            "Nº de linhas restantes = 4612\n"
          ],
          "name": "stdout"
        }
      ]
    },
    {
      "cell_type": "code",
      "metadata": {
        "colab": {
          "base_uri": "https://localhost:8080/",
          "height": 296
        },
        "id": "TwSNZirt4Z98",
        "outputId": "98a965e7-8ff7-44e7-ed9e-9c3a700df6db"
      },
      "source": [
        "print('\\t\\tPearson corr: {:.4f}'.format(df1['Systole1'].corr(df1['Systole2'])))\n",
        "sns.scatterplot(data=df1, x='Systole1', y='Systole2').set(xlim=(72,228), ylim=(72,236));"
      ],
      "execution_count": 25,
      "outputs": [
        {
          "output_type": "stream",
          "text": [
            "\t\tPearson corr: 0.9522\n"
          ],
          "name": "stdout"
        },
        {
          "output_type": "display_data",
          "data": {
            "image/png": "[encoded data removed]",
            "text/plain": [
              "<Figure size 432x288 with 1 Axes>"
            ]
          },
          "metadata": {
            "tags": [],
            "needs_background": "light"
          }
        }
      ]
    },
    {
      "cell_type": "code",
      "metadata": {
        "id": "ES9va8A3zMzt",
        "colab": {
          "base_uri": "https://localhost:8080/",
          "height": 265
        },
        "outputId": "41345fa3-85f1-44d7-84b6-215cda5a0d80"
      },
      "source": [
        "sns.histplot(df1['Systole1'] - df1['Systole2'], binwidth=2);"
      ],
      "execution_count": 26,
      "outputs": [
        {
          "output_type": "display_data",
          "data": {
            "image/png": "[encoded data removed]",
            "text/plain": [
              "<Figure size 432x288 with 1 Axes>"
            ]
          },
          "metadata": {
            "tags": [],
            "needs_background": "light"
          }
        }
      ]
    },
    {
      "cell_type": "markdown",
      "metadata": {
        "id": "a2rYnw-yapPI"
      },
      "source": [
        "Visualmente, a distribuição das diferenças entre as medidas de sístole 1 e 2 parecem ser normalmente distribuídas. Entretanto, conclusões visuais nem sempre são adequadas. Para isso executaremos um teste de Shapiro-Wilk para testar a normalidade mais consistentemente."
      ]
    },
    {
      "cell_type": "code",
      "metadata": {
        "id": "tsdUP-DW0DJ9",
        "colab": {
          "base_uri": "https://localhost:8080/"
        },
        "outputId": "6db789e5-6517-4d90-9f67-2f5f193bb071"
      },
      "source": [
        "stats.shapiro(df1['Systole1'] - df1['Systole2'])"
      ],
      "execution_count": 27,
      "outputs": [
        {
          "output_type": "execute_result",
          "data": {
            "text/plain": [
              "(0.9797497391700745, 3.774910698293721e-25)"
            ]
          },
          "metadata": {
            "tags": []
          },
          "execution_count": 27
        }
      ]
    },
    {
      "cell_type": "markdown",
      "metadata": {
        "id": "B0v3vE3VF265"
      },
      "source": [
        "O teste de Shapiro-Wilk revelou um p-value igual a 3.77e-25 que é menor que o nível de significância adotado para o teste, ou seja, 0.05. Rejeitamos a hipótese nula de que a distribuição das diferenças é aproximadamente normal. Portanto, usaremos um teste de Wilcoxon para verificar se as medidas pareadas de sístole são estatisticamente iguais."
      ]
    },
    {
      "cell_type": "code",
      "metadata": {
        "colab": {
          "base_uri": "https://localhost:8080/"
        },
        "id": "JaRynyoPmSK3",
        "outputId": "a34a5b79-9ec2-4ec3-986f-4eaf9d0bc70a"
      },
      "source": [
        "stats.wilcoxon(df1['Systole1'], df1['Systole2'])"
      ],
      "execution_count": 28,
      "outputs": [
        {
          "output_type": "execute_result",
          "data": {
            "text/plain": [
              "WilcoxonResult(statistic=3413963.0, pvalue=6.002447073273366e-06)"
            ]
          },
          "metadata": {
            "tags": []
          },
          "execution_count": 28
        }
      ]
    },
    {
      "cell_type": "markdown",
      "metadata": {
        "id": "_4vBqF7gGp2b"
      },
      "source": [
        "O teste de Wilcoxon revelou um p-value menor que o nível de significância do teste que é 0.05. Rejeitamos a hipótese nula de que as medidas de sístole1 e sístole2 são iguais."
      ]
    },
    {
      "cell_type": "markdown",
      "metadata": {
        "id": "SejGUQIXXVjX"
      },
      "source": [
        "#### Comparação da pressão sistólica 1 por sexo e idade\n",
        "Sabe-se que uma pressão sistólica alta é um forte de indicador de doenças como hipertensão arterial. Além disso, é de conhecimento comum que este tipo de problema de saúde se agrava conforme a idade aumenta. Será que há uma diferença significativa entre a pressão sistólica de homens e mulheres?"
      ]
    },
    {
      "cell_type": "markdown",
      "metadata": {
        "id": "OFQWbfkedd2E"
      },
      "source": [
        "Para que possamos analisar melhor a relação da pressão sistólica com o sexo e a idade, criaremos uma nova coluna no dataframe de forma a transformar a idade numérica em intervalos categóricos."
      ]
    },
    {
      "cell_type": "code",
      "metadata": {
        "colab": {
          "base_uri": "https://localhost:8080/",
          "height": 284
        },
        "id": "yRB6p4tHxpit",
        "outputId": "74598811-d014-4aa9-b184-7089e5a53eb1"
      },
      "source": [
        "df['Age_Intervals'] = pd.cut(df['Age'], [18,35,50,65,80], include_lowest=True, labels=['18-35','36-50','51-65','66+'])\n",
        "sns.countplot(data=df, x='Age_Intervals', hue='Gender').set(ylim=(0,1000));"
      ],
      "execution_count": 29,
      "outputs": [
        {
          "output_type": "display_data",
          "data": {
            "image/png": "[encoded data removed]",
            "text/plain": [
              "<Figure size 432x288 with 1 Axes>"
            ]
          },
          "metadata": {
            "tags": [],
            "needs_background": "light"
          }
        }
      ]
    },
    {
      "cell_type": "markdown",
      "metadata": {
        "id": "bm91JLaof_Wx"
      },
      "source": [
        "O gráfico de barras acima mostra que as classes de interesse estão bem representadas, pois para todo sexo e para toda idade há uma quantidade significativa e quase uniforme de pacientes. Dito isso, consideraremos que na análise que segue não deverá haver viés relacionado à má representação."
      ]
    },
    {
      "cell_type": "code",
      "metadata": {
        "colab": {
          "base_uri": "https://localhost:8080/",
          "height": 280
        },
        "id": "mkgD2yFeM8Nc",
        "outputId": "d6214a8b-ee7c-4c43-852e-bd7df0fe0339"
      },
      "source": [
        "sns.boxplot(data=df, x='Age_Intervals', y='Systole1', hue='Gender');"
      ],
      "execution_count": 30,
      "outputs": [
        {
          "output_type": "display_data",
          "data": {
            "image/png": "[encoded data removed]",
            "text/plain": [
              "<Figure size 432x288 with 1 Axes>"
            ]
          },
          "metadata": {
            "tags": [],
            "needs_background": "light"
          }
        }
      ]
    },
    {
      "cell_type": "markdown",
      "metadata": {
        "id": "Gf3uLYNPeOz7"
      },
      "source": [
        "O gráfico de caixas revela uma tendência de crescimento da pressão sistólica a medida que a idade aumenta. Confirmando visualmente nossas suposições iniciais. Homens entre 18 e 50 anos tendem a ter pressão sistólica maior que mulheres dentro da mesma faixa etária. Já na faixa dos 51 aos 65 anos, ambos os sexos parecem ter pressões sistólicas semelhantes. Contudo, a situação parece se inverter para pessoas maiores de 66 anos, homens apresentam medidas de sístole menor que mulheres. "
      ]
    },
    {
      "cell_type": "markdown",
      "metadata": {
        "id": "3MkLN9OsiIba"
      },
      "source": [
        "Para confirmar com mais propriedade as conclusões feitas com o box-plot, serão realizados testes de hipóteses. Para cada faixa etária, serão testadas a normalidade da pressão sistólica para cada sexo, e só depois testaremos a igualdade entre os sexos."
      ]
    },
    {
      "cell_type": "code",
      "metadata": {
        "colab": {
          "base_uri": "https://localhost:8080/"
        },
        "id": "MmBhQO2vMU4S",
        "outputId": "ccc00ba1-852a-4f15-d6aa-eb833fbb794e"
      },
      "source": [
        "for age in ['18-35','36-50','51-65','66+']:\n",
        "  print('Age {}:'.format(age))\n",
        "  male_systole1 = df.loc[(df['Gender']=='Male') & (df['Age_Intervals']==age),'Systole1'].dropna()\n",
        "  female_systole1 = df.loc[(df['Gender']=='Female') & (df['Age_Intervals']==age),'Systole1'].dropna()\n",
        "  print('Male: Shapiro = {}'.format(stats.shapiro(male_systole1)))\n",
        "  print('Female: Shapiro = {}'.format(stats.shapiro(female_systole1)))\n",
        "  print(stats.mannwhitneyu(male_systole1, female_systole1), end='\\n\\n')"
      ],
      "execution_count": 31,
      "outputs": [
        {
          "output_type": "stream",
          "text": [
            "Age 18-35:\n",
            "Male: Shapiro = (0.9706166386604309, 2.071271071324432e-10)\n",
            "Female: Shapiro = (0.9366715550422668, 6.89477936922304e-17)\n",
            "MannwhitneyuResult(statistic=137484.5, pvalue=5.2302963907869326e-45)\n",
            "\n",
            "Age 36-50:\n",
            "Male: Shapiro = (0.957950234413147, 1.5460249747079047e-10)\n",
            "Female: Shapiro = (0.9224153757095337, 3.998170740981261e-16)\n",
            "MannwhitneyuResult(statistic=102391.0, pvalue=2.624607408347283e-10)\n",
            "\n",
            "Age 51-65:\n",
            "Male: Shapiro = (0.9610551595687866, 4.158907159629299e-12)\n",
            "Female: Shapiro = (0.9630112648010254, 3.428596165658271e-12)\n",
            "MannwhitneyuResult(statistic=222603.0, pvalue=0.3903659507847398)\n",
            "\n",
            "Age 66+:\n",
            "Male: Shapiro = (0.9648102521896362, 1.1646388020647436e-10)\n",
            "Female: Shapiro = (0.9817180037498474, 2.3296238396142144e-06)\n",
            "MannwhitneyuResult(statistic=134508.5, pvalue=9.198412222441116e-07)\n",
            "\n"
          ],
          "name": "stdout"
        }
      ]
    },
    {
      "cell_type": "markdown",
      "metadata": {
        "id": "xS3K4IMIjIPM"
      },
      "source": [
        "Como todos os testes de Shapiro revelaram p-value menor que o nível de significância (0.05), concluímos que as medidas de sístole não seguem distribuição normal em nenhum dos casos. Analisaremos os testes de Mann-Whitney para dados não pareados.\n",
        "* 18-35 anos: p-value < 0.05. Rejeitamos a hipótese nula de que as pressões sistólicas são iguais para homens e mulheres.\n",
        "* 36-50 anos: p-value < 0.05. Rejeitamos a hipótese nula.\n",
        "* 51-65 anos: p-value > 0.05. Não rejeitamos a hipótese nula, as medidas de sístole entre homem e mulheres são estatisticamente iguais.\n",
        "* 66+ anos: p-value < 0.05. Rejeitamos a hipótese nula. <br>\n",
        "\n",
        "As conclusões feitas a partir do box-plot foram confirmadas."
      ]
    },
    {
      "cell_type": "markdown",
      "metadata": {
        "id": "Zf3oOzTzX4Hf"
      },
      "source": [
        "## Analisando as medidas de pressão diastólica"
      ]
    },
    {
      "cell_type": "markdown",
      "metadata": {
        "id": "UJ91dCEfX7EC"
      },
      "source": [
        "#### Comparação entre todas as amostras de pressão diastólica 1 e 2"
      ]
    },
    {
      "cell_type": "markdown",
      "metadata": {
        "id": "1d7afF8BtGRK"
      },
      "source": [
        "As colunas diastole1 e diastole2 também se referem a medições realizadas uma após a outra, separadas por um curto intervalo de tempo. <br>\n",
        "Assim como para sístole, iniciaremos removendo dados não valorados."
      ]
    },
    {
      "cell_type": "code",
      "metadata": {
        "colab": {
          "base_uri": "https://localhost:8080/"
        },
        "id": "VZ9dA_V6n5ZD",
        "outputId": "42be5da7-6731-4bd3-fe80-a9b5dc7afc25"
      },
      "source": [
        "df2 = df[(df['Diastole1'].notna()) & (df['Diastole2'].notna())]\n",
        "print('Nº de linhas removidas = {}'.format(df.shape[0] - df2.shape[0]))"
      ],
      "execution_count": 32,
      "outputs": [
        {
          "output_type": "stream",
          "text": [
            "Nº de linhas removidas = 722\n"
          ],
          "name": "stdout"
        }
      ]
    },
    {
      "cell_type": "code",
      "metadata": {
        "id": "6j2EF6jwYCka",
        "colab": {
          "base_uri": "https://localhost:8080/",
          "height": 279
        },
        "outputId": "85e75d71-3bc0-4172-f4f3-2592b961486a"
      },
      "source": [
        "fig, axes = plt.subplots(1,2, figsize=(10,4), sharex=True)\n",
        "sns.histplot(data=df2, x='Diastole1', binwidth=4, ax=axes[0])\n",
        "sns.histplot(data=df2, x='Diastole2', binwidth=4, ax=axes[1])\n",
        "plt.show()"
      ],
      "execution_count": 33,
      "outputs": [
        {
          "output_type": "display_data",
          "data": {
            "image/png": "[encoded data removed]",
            "text/plain": [
              "<Figure size 720x288 with 2 Axes>"
            ]
          },
          "metadata": {
            "tags": [],
            "needs_background": "light"
          }
        }
      ]
    },
    {
      "cell_type": "code",
      "metadata": {
        "id": "PWnaVzEgG7r6",
        "colab": {
          "base_uri": "https://localhost:8080/",
          "height": 296
        },
        "outputId": "45af71a3-050f-41fa-f775-f8de469155a2"
      },
      "source": [
        "print('\\t\\tPearson corr: {:.4f}'.format(df2['Diastole1'].corr(df2['Diastole2'])))\n",
        "sns.scatterplot(data=df2, x='Diastole1', y='Diastole2');"
      ],
      "execution_count": 34,
      "outputs": [
        {
          "output_type": "stream",
          "text": [
            "\t\tPearson corr: 0.8838\n"
          ],
          "name": "stdout"
        },
        {
          "output_type": "display_data",
          "data": {
            "image/png": "[encoded data removed]",
            "text/plain": [
              "<Figure size 432x288 with 1 Axes>"
            ]
          },
          "metadata": {
            "tags": [],
            "needs_background": "light"
          }
        }
      ]
    },
    {
      "cell_type": "markdown",
      "metadata": {
        "id": "CosB7_dUuRSG"
      },
      "source": [
        "Observamos através do histograma que ambas as distribuições são simétricas a menos de um pequeno conjunto de outliers próximos à 0mmHg. O scatterplot enfim reforça a presença destes e mais outros outliers que tentaremos remover no passo seguinte utilizando a razão entre as duas variáveis para aplicar a técnica do z-score robusto."
      ]
    },
    {
      "cell_type": "code",
      "metadata": {
        "colab": {
          "base_uri": "https://localhost:8080/"
        },
        "id": "HKpipT2PoelL",
        "outputId": "b409433c-cf0d-4593-fa4e-3e9b381e4a74"
      },
      "source": [
        "threshold = 3.5\n",
        "\n",
        "diastole_ratio = df2['Diastole1']/df2['Diastole2']\n",
        "mad = abs(diastole_ratio - diastole_ratio.median()).median()/0.6745\n",
        "df3 = df2[abs(diastole_ratio - diastole_ratio.median())/mad < threshold]\n",
        "print('Nº de linhas removidas = {}\\nNº de linhas restantes = {}'.format(df2.shape[0] - df3.shape[0], df3.shape[0]))"
      ],
      "execution_count": 35,
      "outputs": [
        {
          "output_type": "stream",
          "text": [
            "Nº de linhas removidas = 117\n",
            "Nº de linhas restantes = 4694\n"
          ],
          "name": "stdout"
        }
      ]
    },
    {
      "cell_type": "code",
      "metadata": {
        "colab": {
          "base_uri": "https://localhost:8080/",
          "height": 296
        },
        "id": "QFjLJaEIqSwz",
        "outputId": "91faeeea-5c66-4a6f-c37e-d9b51a36ced4"
      },
      "source": [
        "print('\\t\\tPearson corr: {:.4f}'.format(df3['Diastole1'].corr(df3['Diastole2'])))\n",
        "sns.scatterplot(data=df3, x='Diastole1', y='Diastole2');"
      ],
      "execution_count": 36,
      "outputs": [
        {
          "output_type": "stream",
          "text": [
            "\t\tPearson corr: 0.9428\n"
          ],
          "name": "stdout"
        },
        {
          "output_type": "display_data",
          "data": {
            "image/png": "[encoded data removed]",
            "text/plain": [
              "<Figure size 432x288 with 1 Axes>"
            ]
          },
          "metadata": {
            "tags": [],
            "needs_background": "light"
          }
        }
      ]
    },
    {
      "cell_type": "markdown",
      "metadata": {
        "id": "SwmrKr3TvlMe"
      },
      "source": [
        "A remoção dos outliers usando uma abordagem bivariada removeu quase todas as amostras de diástole iguais a 0mmHg. Entretando, outliers próximos a reta de regressão foram mantidos mesmo estando visivelmente longe o suficiente dos pontos centrais da distribuição conjunta. A dificuldade em lidar com estes outliers persiste mesmo se o limiar do z-score robusto for menor que 3.5."
      ]
    },
    {
      "cell_type": "code",
      "metadata": {
        "colab": {
          "base_uri": "https://localhost:8080/"
        },
        "id": "5_1RmTev7XqS",
        "outputId": "84323866-0170-419f-c036-73bcdb71fd0d"
      },
      "source": [
        "threshold = 2\n",
        "\n",
        "df4 = df2[abs(diastole_ratio - diastole_ratio.median())/mad < threshold]\n",
        "print('Nº de linhas removidas = {}\\nNº de linhas restantes = {}'.format(df2.shape[0] - df4.shape[0], df4.shape[0]))"
      ],
      "execution_count": 37,
      "outputs": [
        {
          "output_type": "stream",
          "text": [
            "Nº de linhas removidas = 525\n",
            "Nº de linhas restantes = 4286\n"
          ],
          "name": "stdout"
        }
      ]
    },
    {
      "cell_type": "code",
      "metadata": {
        "colab": {
          "base_uri": "https://localhost:8080/",
          "height": 296
        },
        "id": "uEWpv7-47asi",
        "outputId": "d61441a2-e453-46a5-ac48-008d027b6dc0"
      },
      "source": [
        "print('\\t\\tPearson corr: {:.4f}'.format(df4['Diastole1'].corr(df4['Diastole2'])))\n",
        "sns.scatterplot(data=df4, x='Diastole1', y='Diastole2');"
      ],
      "execution_count": 38,
      "outputs": [
        {
          "output_type": "stream",
          "text": [
            "\t\tPearson corr: 0.9621\n"
          ],
          "name": "stdout"
        },
        {
          "output_type": "display_data",
          "data": {
            "image/png": "[encoded data removed]",
            "text/plain": [
              "<Figure size 432x288 with 1 Axes>"
            ]
          },
          "metadata": {
            "tags": [],
            "needs_background": "light"
          }
        }
      ]
    },
    {
      "cell_type": "markdown",
      "metadata": {
        "id": "POJwa3P37Wvz"
      },
      "source": [
        "Para tentar contornar este problema, iremos utilizar o método multivariado Elliptic Envelope. "
      ]
    },
    {
      "cell_type": "code",
      "metadata": {
        "colab": {
          "base_uri": "https://localhost:8080/"
        },
        "id": "v_BHwqHnx24m",
        "outputId": "1c9bccbd-6903-483d-85e6-e5816a6547ce"
      },
      "source": [
        "from sklearn.covariance import EllipticEnvelope\n",
        "\n",
        "df5 = df.copy()\n",
        "df5 = df5.drop(columns='Age_Intervals')\n",
        "df5 = df5.dropna()\n",
        "print('Nº de linhas removidas pelo dropna = {}\\nNº de linhas restantes = {}'.format(df.shape[0] - df5.shape[0], df5.shape[0]))\n",
        "\n",
        "df5['Gender'] = df5['Gender'].astype('category')\n",
        "df5['Education'] = df5['Education'].astype('category')\n",
        "df5['Marital'] = df5['Marital'].astype('category')\n",
        "\n",
        "df5['Gender'] = df5['Gender'].cat.codes\n",
        "df5['Education'] = df5['Education'].cat.codes\n",
        "df5['Marital'] = df5['Marital'].cat.codes\n",
        "\n",
        "detector = EllipticEnvelope(contamination=0.2)\n",
        "detector.fit(df5)\n",
        "scores = detector.predict(df5)\n",
        "lines_before = df5.shape[0]\n",
        "df5 = df5[scores != -1]\n",
        "print('Nº de linhas removidas pelo Elliptic Envelope = {}\\nNº de linhas restantes = {}'.format(lines_before - df5.shape[0], df5.shape[0]))"
      ],
      "execution_count": 39,
      "outputs": [
        {
          "output_type": "stream",
          "text": [
            "Nº de linhas removidas pelo dropna = 1014\n",
            "Nº de linhas restantes = 4519\n",
            "Nº de linhas removidas pelo Elliptic Envelope = 904\n",
            "Nº de linhas restantes = 3615\n"
          ],
          "name": "stdout"
        }
      ]
    },
    {
      "cell_type": "code",
      "metadata": {
        "colab": {
          "base_uri": "https://localhost:8080/",
          "height": 300
        },
        "id": "viRKENg20IQv",
        "outputId": "5f14510f-3981-480e-d733-4f7e794654ce"
      },
      "source": [
        "print('\\t\\tPearson corr: {:.4f}'.format(df5['Diastole1'].corr(df5['Diastole2'])))\n",
        "sns.scatterplot(data=df5, x='Diastole1', y='Diastole2').set(xlim=(0,140), ylim=(0,140));"
      ],
      "execution_count": 40,
      "outputs": [
        {
          "output_type": "stream",
          "text": [
            "\t\tPearson corr: 0.9260\n"
          ],
          "name": "stdout"
        },
        {
          "output_type": "display_data",
          "data": {
            "image/png": "[encoded data removed]",
            "text/plain": [
              "<Figure size 432x288 with 1 Axes>"
            ]
          },
          "metadata": {
            "tags": [],
            "needs_background": "light"
          }
        }
      ]
    },
    {
      "cell_type": "code",
      "metadata": {
        "id": "A0TL-MqvmDrO",
        "colab": {
          "base_uri": "https://localhost:8080/",
          "height": 265
        },
        "outputId": "f8b9d8bd-289f-4260-8693-8b4fb5cc93be"
      },
      "source": [
        "sns.histplot(df5['Diastole1'] - df5['Diastole2'], binwidth=2).set(xlim=(-25,25));"
      ],
      "execution_count": 41,
      "outputs": [
        {
          "output_type": "display_data",
          "data": {
            "image/png": "[encoded data removed]",
            "text/plain": [
              "<Figure size 432x288 with 1 Axes>"
            ]
          },
          "metadata": {
            "tags": [],
            "needs_background": "light"
          }
        }
      ]
    },
    {
      "cell_type": "markdown",
      "metadata": {
        "id": "sXbAEvDz9qsM"
      },
      "source": [
        "Vamos executar um teste de Shapiro-Wilk para verificar se a distribuição das diferenças acima possui distribuição normal."
      ]
    },
    {
      "cell_type": "code",
      "metadata": {
        "id": "V5Tb1FPaOkGE",
        "colab": {
          "base_uri": "https://localhost:8080/"
        },
        "outputId": "b3bc1fcb-542d-43c2-9511-ff1833890097"
      },
      "source": [
        "stats.shapiro(df5['Diastole1'] - df5['Diastole2'])"
      ],
      "execution_count": 42,
      "outputs": [
        {
          "output_type": "execute_result",
          "data": {
            "text/plain": [
              "(0.9769898653030396, 9.556062212899221e-24)"
            ]
          },
          "metadata": {
            "tags": []
          },
          "execution_count": 42
        }
      ]
    },
    {
      "cell_type": "markdown",
      "metadata": {
        "id": "3PPFfQQkB5QM"
      },
      "source": [
        "O teste de Shapiro-Wilk revelou um p-value igual a 9.55e-24 que é menor que o nível de significância de 5%. Portanto, rejeitamos a hipótese nula de que a distribuição das diferenças é aproximadamente normal e por isso devemos usar um teste de Wilcoxon para verificar se as medidas pareadas de diástole são estatisticamente iguais."
      ]
    },
    {
      "cell_type": "code",
      "metadata": {
        "colab": {
          "base_uri": "https://localhost:8080/"
        },
        "id": "cBN4RFNL96ga",
        "outputId": "5a1ec679-16a9-48dc-c882-1ac3ce9b8268"
      },
      "source": [
        "stats.wilcoxon(df5['Diastole1'], df5['Diastole2'])"
      ],
      "execution_count": 43,
      "outputs": [
        {
          "output_type": "execute_result",
          "data": {
            "text/plain": [
              "WilcoxonResult(statistic=2243937.5, pvalue=0.4912980853628047)"
            ]
          },
          "metadata": {
            "tags": []
          },
          "execution_count": 43
        }
      ]
    },
    {
      "cell_type": "markdown",
      "metadata": {
        "id": "w-vEsGQgB9mA"
      },
      "source": [
        "O teste de Wilcoxon revelou um p-value maior que o nível de significância de 5%. Consequentemente, aceitamos a hipótese nula de que as medidas de diástole1 e diástole2 são iguais."
      ]
    }
  ]
}