{
  "nbformat": 4,
  "nbformat_minor": 0,
  "metadata": {
    "colab": {
      "name": "Projeto2.ipynb",
      "provenance": [],
      "collapsed_sections": []
    },
    "kernelspec": {
      "name": "python3",
      "display_name": "Python 3"
    },
    "language_info": {
      "name": "python"
    }
  },
  "cells": [
    {
      "cell_type": "code",
      "metadata": {
        "id": "PfVwVZNGP9Ny",
        "colab": {
          "base_uri": "https://localhost:8080/"
        },
        "outputId": "9dca2fc1-b040-4133-c1d7-7825879cfda0"
      },
      "source": [
        "import numpy as np\n",
        "import pandas as pd\n",
        "import seaborn as sns\n",
        "import matplotlib.pyplot as plt\n",
        "\n",
        "from sklearn.ensemble import RandomForestClassifier\n",
        "from sklearn.neighbors import KNeighborsClassifier\n",
        "from sklearn.neural_network import MLPClassifier\n",
        "from sklearn.naive_bayes import GaussianNB\n",
        "\n",
        "from sklearn.metrics import accuracy_score\n",
        "from sklearn.metrics import f1_score\n",
        "from sklearn.metrics import precision_score\n",
        "from sklearn.metrics import recall_score\n",
        "\n",
        "from google.colab import drive\n",
        "drive.mount('/content/gdrive')"
      ],
      "execution_count": 1,
      "outputs": [
        {
          "output_type": "stream",
          "text": [
            "Drive already mounted at /content/gdrive; to attempt to forcibly remount, call drive.mount(\"/content/gdrive\", force_remount=True).\n"
          ],
          "name": "stdout"
        }
      ]
    },
    {
      "cell_type": "code",
      "metadata": {
        "colab": {
          "base_uri": "https://localhost:8080/"
        },
        "id": "EY7SRKDHla__",
        "outputId": "1e225058-3131-4e9f-f9c8-22e5e9a66e4c"
      },
      "source": [
        "!pip install pyngrok --quiet\n",
        "!pip install mlflow --quiet\n",
        "\n",
        "import mlflow\n",
        "# run tracking UI in the background\n",
        "get_ipython().system_raw(\"mlflow ui --port 5000 &\") # run tracking UI in the background\n",
        "\n",
        "# create remote tunnel using ngrok.com to allow local port access\n",
        "\n",
        "from pyngrok import ngrok\n",
        "\n",
        "# Terminate open tunnels if exist\n",
        "ngrok.kill()\n",
        "\n",
        "# Setting the authtoken (optional)\n",
        "# Get your authtoken from https://dashboard.ngrok.com/auth\n",
        "NGROK_AUTH_TOKEN = \"1r8VzJGvVkDqYJDLNyNR12FZAIN_bYtBiBQEXBPv8DnzxKTB\"\n",
        "ngrok.set_auth_token(NGROK_AUTH_TOKEN)\n",
        "\n",
        "# Open an HTTPs tunnel on port 5000 for http://localhost:5000\n",
        "ngrok_tunnel = ngrok.connect(addr=\"5000\", proto=\"http\", bind_tls=True)\n",
        "print(\"MLflow Tracking UI:\", ngrok_tunnel.public_url)\n",
        "\n",
        "def eval_metrics(actual, pred):\n",
        "  acc = accuracy_score(actual, pred)\n",
        "  f1 = f1_score(actual, pred)\n",
        "  precision = precision_score(actual, pred)\n",
        "  recall = recall_score(actual, pred)\n",
        "  return {'accuracy':acc, 'f1':f1, 'precision':precision, 'recall':recall}\n",
        "\n",
        "def mlflow_save(experiment_id, params, metrics, model, name):\n",
        "  with mlflow.start_run(experiment_id=experiment_id) as run:\n",
        "    mlflow.log_params(params)\n",
        "    mlflow.log_metrics(metrics)\n",
        "    mlflow.sklearn.log_model(model, 'sklearn-model')\n",
        "    mlflow.set_tags({'Name':name})\n",
        "\n",
        "def train_validation_test_split(X, y):\n",
        "  X = X.sample(frac=1, random_state=123)\n",
        "  y = y.sample(frac=1, random_state=123)\n",
        "  if(len(X)==len(y)):\n",
        "    length = len(X)\n",
        "    X_train = X.iloc[:int(0.6*length)]\n",
        "    X_validation = X.iloc[int(0.6*length):int(0.8*length)]\n",
        "    X_test = X.iloc[:int(0.8*length)]\n",
        "    y_train = y.iloc[:int(0.6*length)]\n",
        "    y_validation = y.iloc[int(0.6*length):int(0.8*length)]\n",
        "    y_test = y.iloc[:int(0.8*length)]\n",
        "    return X_train, X_validation, X_test, y_train, y_validation, y_test\n",
        "  else:\n",
        "    print(\"X and y length must be equal!\")"
      ],
      "execution_count": 126,
      "outputs": [
        {
          "output_type": "stream",
          "text": [
            "MLflow Tracking UI: https://cf3635f5aa33.ngrok.io\n"
          ],
          "name": "stdout"
        }
      ]
    },
    {
      "cell_type": "code",
      "metadata": {
        "colab": {
          "base_uri": "https://localhost:8080/",
          "height": 269
        },
        "id": "6IDay3HDK8S0",
        "outputId": "8afb3f15-6ff5-40e4-db14-80b00cb74464"
      },
      "source": [
        "DEMO = pd.read_sas('/content/gdrive/My Drive/11º Período/Ciencia de Dados/DEMO_J.XPT', index='SEQN')\n",
        "DEMO = DEMO[['RIAGENDR', 'RIDAGEYR', 'DMDEDUC2', 'DMDMARTL']]\n",
        "\n",
        "BMX = pd.read_sas('/content/gdrive/My Drive/11º Período/Ciencia de Dados/BMX_J.XPT', index='SEQN')\n",
        "BMX = BMX[['BMXWT', 'BMXHT']]\n",
        "\n",
        "BPX = pd.read_sas('/content/gdrive/My Drive/11º Período/Ciencia de Dados/BPX_J.XPT', index='SEQN') \n",
        "BPX = BPX[['BPXSY1', 'BPXDI1', 'BPXSY2', 'BPXDI2']]\n",
        "\n",
        "BPQ = pd.read_sas('/content/gdrive/My Drive/11º Período/Ciencia de Dados/BPQ_J.XPT', index='SEQN') \n",
        "BPQ = BPQ[['BPQ020', 'BPQ080']]\n",
        "\n",
        "df = pd.merge(DEMO, BMX, left_index=True, right_index=True, how='inner')\n",
        "df = pd.merge(df, BPX, left_index=True, right_index=True, how='inner')\n",
        "df = pd.merge(df, BPQ, left_index=True, right_index=True, how='inner')\n",
        "\n",
        "df.columns = ['Gender','Age','Education','Marital','Weight','Height','Systole1','Diastole1','Systole2','Diastole2','High_Pressure','High_Cholesterol']\n",
        "df.Gender = df.Gender.replace({1.0: 'Male', 2.0: 'Female'})\n",
        "df.Education = df.Education.replace({1.0: '-9th', 2.0: '9-11th', 3.0: 'High School', 4.0: 'Some College', 5.0: 'Graduate+', 7.0: 'Refused', 8.0: 'Don\\'t Know'})\n",
        "df.Marital = df.Marital.replace({1.0: 'Married', 2.0: 'Widowed', 3.0: 'Divorced', 4.0: 'Separated', 5.0: 'Never Married', 6.0: 'Living With Partner', 77: 'Refused', 99: 'Don\\'t Know'})\n",
        "df.High_Pressure = df.High_Pressure.replace({1.0: 'Yes', 2.0: 'No', 7.0: 'Refused', 9.0: 'Don\\'t Know'})\n",
        "df.High_Cholesterol = df.High_Cholesterol.replace({1.0: 'Yes', 2.0: 'No', 7.0: 'Refused', 9.0: 'Don\\'t Know'})\n",
        "display(df.head())\n",
        "print('Linhas = {}\\nColunas = {}'.format(df.shape[0], df.shape[1]))"
      ],
      "execution_count": 136,
      "outputs": [
        {
          "output_type": "display_data",
          "data": {
            "text/html": [
              "<div>\n",
              "<style scoped>\n",
              "    .dataframe tbody tr th:only-of-type {\n",
              "        vertical-align: middle;\n",
              "    }\n",
              "\n",
              "    .dataframe tbody tr th {\n",
              "        vertical-align: top;\n",
              "    }\n",
              "\n",
              "    .dataframe thead th {\n",
              "        text-align: right;\n",
              "    }\n",
              "</style>\n",
              "<table border=\"1\" class=\"dataframe\">\n",
              "  <thead>\n",
              "    <tr style=\"text-align: right;\">\n",
              "      <th></th>\n",
              "      <th>Gender</th>\n",
              "      <th>Age</th>\n",
              "      <th>Education</th>\n",
              "      <th>Marital</th>\n",
              "      <th>Weight</th>\n",
              "      <th>Height</th>\n",
              "      <th>Systole1</th>\n",
              "      <th>Diastole1</th>\n",
              "      <th>Systole2</th>\n",
              "      <th>Diastole2</th>\n",
              "      <th>High_Pressure</th>\n",
              "      <th>High_Cholesterol</th>\n",
              "    </tr>\n",
              "    <tr>\n",
              "      <th>SEQN</th>\n",
              "      <th></th>\n",
              "      <th></th>\n",
              "      <th></th>\n",
              "      <th></th>\n",
              "      <th></th>\n",
              "      <th></th>\n",
              "      <th></th>\n",
              "      <th></th>\n",
              "      <th></th>\n",
              "      <th></th>\n",
              "      <th></th>\n",
              "      <th></th>\n",
              "    </tr>\n",
              "  </thead>\n",
              "  <tbody>\n",
              "    <tr>\n",
              "      <th>93705.0</th>\n",
              "      <td>Female</td>\n",
              "      <td>66.0</td>\n",
              "      <td>9-11th</td>\n",
              "      <td>Divorced</td>\n",
              "      <td>79.5</td>\n",
              "      <td>158.3</td>\n",
              "      <td>NaN</td>\n",
              "      <td>NaN</td>\n",
              "      <td>NaN</td>\n",
              "      <td>NaN</td>\n",
              "      <td>Yes</td>\n",
              "      <td>No</td>\n",
              "    </tr>\n",
              "    <tr>\n",
              "      <th>93706.0</th>\n",
              "      <td>Male</td>\n",
              "      <td>18.0</td>\n",
              "      <td>NaN</td>\n",
              "      <td>NaN</td>\n",
              "      <td>66.3</td>\n",
              "      <td>175.7</td>\n",
              "      <td>112.0</td>\n",
              "      <td>74.0</td>\n",
              "      <td>114.0</td>\n",
              "      <td>70.0</td>\n",
              "      <td>No</td>\n",
              "      <td>No</td>\n",
              "    </tr>\n",
              "    <tr>\n",
              "      <th>93708.0</th>\n",
              "      <td>Female</td>\n",
              "      <td>66.0</td>\n",
              "      <td>-9th</td>\n",
              "      <td>Married</td>\n",
              "      <td>53.5</td>\n",
              "      <td>150.2</td>\n",
              "      <td>NaN</td>\n",
              "      <td>NaN</td>\n",
              "      <td>138.0</td>\n",
              "      <td>78.0</td>\n",
              "      <td>Yes</td>\n",
              "      <td>Yes</td>\n",
              "    </tr>\n",
              "    <tr>\n",
              "      <th>93709.0</th>\n",
              "      <td>Female</td>\n",
              "      <td>75.0</td>\n",
              "      <td>Some College</td>\n",
              "      <td>Widowed</td>\n",
              "      <td>88.8</td>\n",
              "      <td>151.1</td>\n",
              "      <td>120.0</td>\n",
              "      <td>66.0</td>\n",
              "      <td>118.0</td>\n",
              "      <td>66.0</td>\n",
              "      <td>Yes</td>\n",
              "      <td>No</td>\n",
              "    </tr>\n",
              "    <tr>\n",
              "      <th>93711.0</th>\n",
              "      <td>Male</td>\n",
              "      <td>56.0</td>\n",
              "      <td>Graduate+</td>\n",
              "      <td>Married</td>\n",
              "      <td>62.1</td>\n",
              "      <td>170.6</td>\n",
              "      <td>108.0</td>\n",
              "      <td>68.0</td>\n",
              "      <td>94.0</td>\n",
              "      <td>68.0</td>\n",
              "      <td>No</td>\n",
              "      <td>Yes</td>\n",
              "    </tr>\n",
              "  </tbody>\n",
              "</table>\n",
              "</div>"
            ],
            "text/plain": [
              "         Gender   Age     Education  ... Diastole2  High_Pressure  High_Cholesterol\n",
              "SEQN                                 ...                                           \n",
              "93705.0  Female  66.0        9-11th  ...       NaN            Yes                No\n",
              "93706.0    Male  18.0           NaN  ...      70.0             No                No\n",
              "93708.0  Female  66.0          -9th  ...      78.0            Yes               Yes\n",
              "93709.0  Female  75.0  Some College  ...      66.0            Yes                No\n",
              "93711.0    Male  56.0     Graduate+  ...      68.0             No               Yes\n",
              "\n",
              "[5 rows x 12 columns]"
            ]
          },
          "metadata": {
            "tags": []
          }
        },
        {
          "output_type": "stream",
          "text": [
            "Linhas = 5828\n",
            "Colunas = 12\n"
          ],
          "name": "stdout"
        }
      ]
    },
    {
      "cell_type": "code",
      "metadata": {
        "colab": {
          "base_uri": "https://localhost:8080/"
        },
        "id": "uCL76G_vNgV7",
        "outputId": "7ba90223-8b1c-4489-bfdd-38739a4dd10a"
      },
      "source": [
        "df = df[df.High_Pressure.isin(['Yes','No'])]\n",
        "df = df.dropna()\n",
        "print('Linhas restantes = {}'.format(df.shape[0]))"
      ],
      "execution_count": 137,
      "outputs": [
        {
          "output_type": "stream",
          "text": [
            "Linhas restantes = 4509\n"
          ],
          "name": "stdout"
        }
      ]
    },
    {
      "cell_type": "code",
      "metadata": {
        "colab": {
          "base_uri": "https://localhost:8080/",
          "height": 279
        },
        "id": "9CcUTzTSrOOi",
        "outputId": "ac1cf90f-e2a3-4d1f-cde1-2f6902a6c9bc"
      },
      "source": [
        "_, axes = plt.subplots(1, 3, figsize=(18,4))\n",
        "sns.histplot(data=df, x='Systole1', hue='High_Pressure', multiple='layer', ax=axes[0]);\n",
        "sns.boxplot(data=df, x='Systole1', y='High_Pressure', width=0.5, ax=axes[1]);\n",
        "sns.scatterplot(data=df, x='Systole1', y='Systole2', hue='High_Pressure', ax=axes[2]);\n",
        "plt.show()"
      ],
      "execution_count": 138,
      "outputs": [
        {
          "output_type": "display_data",
          "data": {
            "image/png": "[encoded data removed]",
            "text/plain": [
              "<Figure size 1296x288 with 3 Axes>"
            ]
          },
          "metadata": {
            "tags": [],
            "needs_background": "light"
          }
        }
      ]
    },
    {
      "cell_type": "code",
      "metadata": {
        "id": "pDxj3Abni8Zh"
      },
      "source": [
        "df['Gender'] = df['Gender'].astype('category')\n",
        "df['Education'] = df['Education'].astype('category')\n",
        "df['Marital'] = df['Marital'].astype('category')\n",
        "df['High_Pressure'] = df['High_Pressure'].astype('category')\n",
        "df['High_Cholesterol'] = df['High_Cholesterol'].astype('category')\n",
        "\n",
        "df['Gender'] = df['Gender'].cat.codes\n",
        "df['Education'] = df['Education'].cat.codes\n",
        "df['Marital'] = df['Marital'].cat.codes\n",
        "df['High_Pressure'] = df['High_Pressure'].cat.codes\n",
        "df['High_Cholesterol'] = df['High_Cholesterol'].cat.codes"
      ],
      "execution_count": 139,
      "outputs": []
    },
    {
      "cell_type": "code",
      "metadata": {
        "id": "H5Arlv-fbIFf",
        "colab": {
          "base_uri": "https://localhost:8080/"
        },
        "outputId": "00b5800d-3b58-49c3-b29b-ea3c67131307"
      },
      "source": [
        "X = df.drop(columns='High_Pressure')\n",
        "y = df.High_Pressure\n",
        "\n",
        "X_train, X_validation, X_test, y_train, y_validation, y_test = train_validation_test_split(X, y)\n",
        "\n",
        "mlflow.set_experiment('Validation1')\n",
        "experiment_id = mlflow.get_experiment_by_name('Validation1').experiment_id"
      ],
      "execution_count": 142,
      "outputs": [
        {
          "output_type": "stream",
          "text": [
            "INFO: 'Validation1' does not exist. Creating a new experiment\n"
          ],
          "name": "stdout"
        }
      ]
    },
    {
      "cell_type": "code",
      "metadata": {
        "id": "7aZaCcXigpk5"
      },
      "source": [
        "for n_estimators in [1,10,100,1000]:\n",
        "    modelRF = RandomForestClassifier(n_estimators=n_estimators)\n",
        "    modelRF.fit(X_train, y_train)\n",
        "    y_pred = modelRF.predict(X_validation)\n",
        "\n",
        "    mlflow_save(experiment_id, {'n_estimators':n_estimators}, eval_metrics(y_validation, y_pred), modelRF, \"Random_Forest\")"
      ],
      "execution_count": 143,
      "outputs": []
    },
    {
      "cell_type": "code",
      "metadata": {
        "id": "PE_Ujv2uh2ug"
      },
      "source": [
        "for n_neighbors in range(1,20):\n",
        "    modelKNN = KNeighborsClassifier(n_neighbors=n_neighbors)\n",
        "    modelKNN.fit(X_train, y_train)\n",
        "    y_pred = modelKNN.predict(X_validation)\n",
        "\n",
        "    mlflow_save(experiment_id, {'n_neighbors':n_neighbors}, eval_metrics(y_validation, y_pred), modelKNN, \"k-NN\")"
      ],
      "execution_count": 148,
      "outputs": []
    },
    {
      "cell_type": "code",
      "metadata": {
        "id": "DgqMj1qKpIWj"
      },
      "source": [
        "for hidden_layer_sizes in [(100,),(100,100,),(100,100,100,)]:\n",
        "  for learning_rate_init in [0.01,0.001]:\n",
        "    modelMLP = MLPClassifier(hidden_layer_sizes=hidden_layer_sizes, learning_rate_init=learning_rate_init, activation='tanh', early_stopping=True, max_iter=1000, validation_fraction=0.2, solver='sgd')\n",
        "    modelMLP.fit(X_train, y_train)\n",
        "    y_pred = modelMLP.predict(X_validation)\n",
        "\n",
        "    mlflow_save(experiment_id, {'hidden_layer_sizes':hidden_layer_sizes, 'learning_rate_init':learning_rate_init}, eval_metrics(y_validation, y_pred), modelMLP, \"MLP\")"
      ],
      "execution_count": 149,
      "outputs": []
    },
    {
      "cell_type": "code",
      "metadata": {
        "id": "99RJzHn6r_Ps"
      },
      "source": [
        "modelNB = GaussianNB()\n",
        "modelNB.fit(X_train, y_train)\n",
        "y_pred = modelNB.predict(X_validation)\n",
        "\n",
        "mlflow_save(experiment_id, {}, eval_metrics(y_validation, y_pred), modelNB, \"Naive_Bayes\")"
      ],
      "execution_count": 150,
      "outputs": []
    },
    {
      "cell_type": "code",
      "metadata": {
        "id": "_GwuDHN-nItP",
        "colab": {
          "base_uri": "https://localhost:8080/",
          "height": 326
        },
        "outputId": "b6c6c558-f2e1-4821-ce7b-19a407c8fdcb"
      },
      "source": [
        "filter_string = \"tags.Name = 'Random_Forest'\"\n",
        "resultRF = mlflow.search_runs([experiment_id], filter_string=filter_string, order_by=[\"metrics.accuracy DESC\"])\n",
        "print('\\nResultado dos modelos Random Forest sobre o conjunto de validação:\\n')\n",
        "display(resultRF[['tags.Name','params.n_estimators','metrics.accuracy','run_id']])\n",
        "\n",
        "bestRF_run_id = resultRF.loc[0,'run_id']\n",
        "best_modelRF = mlflow.sklearn.load_model(\"mlruns/\" + experiment_id + \"/\" + bestRF_run_id + \"/artifacts/sklearn-model/\")\n",
        "y_pred = best_modelRF.predict(X_test)\n",
        "\n",
        "metrics = eval_metrics(y_pred, y_test) \n",
        "print('\\nAvaliação do melhor modelo Random Forest sobre o conjunto de teste:\\nAccuracy = {}\\nF1-score = {}\\nPrecision = {}\\nRecall = {}'.format(metrics['accuracy'],metrics['f1'],metrics['precision'],metrics['recall']))"
      ],
      "execution_count": 192,
      "outputs": [
        {
          "output_type": "stream",
          "text": [
            "\n",
            "Resultado dos modelos Random Forest sobre o conjunto de validação:\n",
            "\n"
          ],
          "name": "stdout"
        },
        {
          "output_type": "display_data",
          "data": {
            "text/html": [
              "<div>\n",
              "<style scoped>\n",
              "    .dataframe tbody tr th:only-of-type {\n",
              "        vertical-align: middle;\n",
              "    }\n",
              "\n",
              "    .dataframe tbody tr th {\n",
              "        vertical-align: top;\n",
              "    }\n",
              "\n",
              "    .dataframe thead th {\n",
              "        text-align: right;\n",
              "    }\n",
              "</style>\n",
              "<table border=\"1\" class=\"dataframe\">\n",
              "  <thead>\n",
              "    <tr style=\"text-align: right;\">\n",
              "      <th></th>\n",
              "      <th>tags.Name</th>\n",
              "      <th>params.n_estimators</th>\n",
              "      <th>metrics.accuracy</th>\n",
              "      <th>run_id</th>\n",
              "    </tr>\n",
              "  </thead>\n",
              "  <tbody>\n",
              "    <tr>\n",
              "      <th>0</th>\n",
              "      <td>Random_Forest</td>\n",
              "      <td>1000</td>\n",
              "      <td>0.746120</td>\n",
              "      <td>d7543b89614c42049199bf1589b3d52b</td>\n",
              "    </tr>\n",
              "    <tr>\n",
              "      <th>1</th>\n",
              "      <td>Random_Forest</td>\n",
              "      <td>100</td>\n",
              "      <td>0.746120</td>\n",
              "      <td>01149c98b9244319b99afbeeb2b257af</td>\n",
              "    </tr>\n",
              "    <tr>\n",
              "      <th>2</th>\n",
              "      <td>Random_Forest</td>\n",
              "      <td>10</td>\n",
              "      <td>0.709534</td>\n",
              "      <td>a060c5416d4449d4b9777afd6ca2a0c5</td>\n",
              "    </tr>\n",
              "    <tr>\n",
              "      <th>3</th>\n",
              "      <td>Random_Forest</td>\n",
              "      <td>1</td>\n",
              "      <td>0.667406</td>\n",
              "      <td>7b5a5356187d44babc8624d8daaebe28</td>\n",
              "    </tr>\n",
              "  </tbody>\n",
              "</table>\n",
              "</div>"
            ],
            "text/plain": [
              "       tags.Name  ...                            run_id\n",
              "0  Random_Forest  ...  d7543b89614c42049199bf1589b3d52b\n",
              "1  Random_Forest  ...  01149c98b9244319b99afbeeb2b257af\n",
              "2  Random_Forest  ...  a060c5416d4449d4b9777afd6ca2a0c5\n",
              "3  Random_Forest  ...  7b5a5356187d44babc8624d8daaebe28\n",
              "\n",
              "[4 rows x 4 columns]"
            ]
          },
          "metadata": {
            "tags": []
          }
        },
        {
          "output_type": "stream",
          "text": [
            "\n",
            "Avaliação do melhor modelo Random Forest sobre o conjunto de teste:\n",
            "Accuracy = 0.9365123371222622\n",
            "F1-score = 0.9144564811355994\n",
            "Precision = 0.9147982062780269\n",
            "Recall = 0.9141150112023898\n"
          ],
          "name": "stdout"
        }
      ]
    },
    {
      "cell_type": "code",
      "metadata": {
        "colab": {
          "base_uri": "https://localhost:8080/",
          "height": 791
        },
        "id": "zUsEp6dfmAI9",
        "outputId": "faa5dc53-781c-4d69-b9ed-3182360f8852"
      },
      "source": [
        "filter_string = \"tags.Name = 'k-NN'\"\n",
        "resultKNN = mlflow.search_runs([experiment_id], filter_string=filter_string, order_by=[\"metrics.accuracy DESC\"])\n",
        "print('\\nResultado dos modelos k-NN sobre o conjunto de validação:\\n')\n",
        "display(resultKNN[['tags.Name','params.n_neighbors','metrics.accuracy','run_id']])\n",
        "\n",
        "bestKNN_run_id = resultKNN.loc[0,'run_id']\n",
        "best_modelKNN = mlflow.sklearn.load_model(\"mlruns/\" + experiment_id + \"/\" + bestKNN_run_id + \"/artifacts/sklearn-model/\")\n",
        "y_pred = best_modelKNN.predict(X_test)\n",
        "\n",
        "metrics = eval_metrics(y_pred, y_test) \n",
        "print('\\nAvaliação do melhor modelo k-NN sobre o conjunto de teste:\\nAccuracy = {}\\nF1-score = {}\\nPrecision = {}\\nRecall = {}'.format(metrics['accuracy'],metrics['f1'],metrics['precision'],metrics['recall']))\n"
      ],
      "execution_count": 185,
      "outputs": [
        {
          "output_type": "stream",
          "text": [
            "\n",
            "Resultado dos modelos k-NN sobre o conjunto de validação:\n",
            "\n"
          ],
          "name": "stdout"
        },
        {
          "output_type": "display_data",
          "data": {
            "text/html": [
              "<div>\n",
              "<style scoped>\n",
              "    .dataframe tbody tr th:only-of-type {\n",
              "        vertical-align: middle;\n",
              "    }\n",
              "\n",
              "    .dataframe tbody tr th {\n",
              "        vertical-align: top;\n",
              "    }\n",
              "\n",
              "    .dataframe thead th {\n",
              "        text-align: right;\n",
              "    }\n",
              "</style>\n",
              "<table border=\"1\" class=\"dataframe\">\n",
              "  <thead>\n",
              "    <tr style=\"text-align: right;\">\n",
              "      <th></th>\n",
              "      <th>tags.Name</th>\n",
              "      <th>params.n_neighbors</th>\n",
              "      <th>metrics.accuracy</th>\n",
              "      <th>run_id</th>\n",
              "    </tr>\n",
              "  </thead>\n",
              "  <tbody>\n",
              "    <tr>\n",
              "      <th>0</th>\n",
              "      <td>k-NN</td>\n",
              "      <td>15</td>\n",
              "      <td>0.728381</td>\n",
              "      <td>d7d3195d6d514c32b531231b7f662444</td>\n",
              "    </tr>\n",
              "    <tr>\n",
              "      <th>1</th>\n",
              "      <td>k-NN</td>\n",
              "      <td>19</td>\n",
              "      <td>0.726164</td>\n",
              "      <td>7a0cf6ce0e294b11b9ad4645172655df</td>\n",
              "    </tr>\n",
              "    <tr>\n",
              "      <th>2</th>\n",
              "      <td>k-NN</td>\n",
              "      <td>16</td>\n",
              "      <td>0.725055</td>\n",
              "      <td>dde06d044ed34b1192aa926919715e9a</td>\n",
              "    </tr>\n",
              "    <tr>\n",
              "      <th>3</th>\n",
              "      <td>k-NN</td>\n",
              "      <td>14</td>\n",
              "      <td>0.721729</td>\n",
              "      <td>a89739c5de9e49e3bc80b3b3fb86e1f8</td>\n",
              "    </tr>\n",
              "    <tr>\n",
              "      <th>4</th>\n",
              "      <td>k-NN</td>\n",
              "      <td>13</td>\n",
              "      <td>0.720621</td>\n",
              "      <td>e640f564ae484e398067423ce2b58c53</td>\n",
              "    </tr>\n",
              "    <tr>\n",
              "      <th>5</th>\n",
              "      <td>k-NN</td>\n",
              "      <td>11</td>\n",
              "      <td>0.720621</td>\n",
              "      <td>01fd10085187494182efc167bf2775b6</td>\n",
              "    </tr>\n",
              "    <tr>\n",
              "      <th>6</th>\n",
              "      <td>k-NN</td>\n",
              "      <td>12</td>\n",
              "      <td>0.719512</td>\n",
              "      <td>cdedd6886a894c89891a5d1612b36c0e</td>\n",
              "    </tr>\n",
              "    <tr>\n",
              "      <th>7</th>\n",
              "      <td>k-NN</td>\n",
              "      <td>17</td>\n",
              "      <td>0.718404</td>\n",
              "      <td>41a067c749da41c0acf2564169d1fdf2</td>\n",
              "    </tr>\n",
              "    <tr>\n",
              "      <th>8</th>\n",
              "      <td>k-NN</td>\n",
              "      <td>10</td>\n",
              "      <td>0.717295</td>\n",
              "      <td>8a42d3a8c028482d888a4e5c58a536f6</td>\n",
              "    </tr>\n",
              "    <tr>\n",
              "      <th>9</th>\n",
              "      <td>k-NN</td>\n",
              "      <td>9</td>\n",
              "      <td>0.713969</td>\n",
              "      <td>55d08674996c4a069a4cae6798619dc1</td>\n",
              "    </tr>\n",
              "    <tr>\n",
              "      <th>10</th>\n",
              "      <td>k-NN</td>\n",
              "      <td>8</td>\n",
              "      <td>0.713969</td>\n",
              "      <td>2d8f7e667676440599b85cfb003eb43a</td>\n",
              "    </tr>\n",
              "    <tr>\n",
              "      <th>11</th>\n",
              "      <td>k-NN</td>\n",
              "      <td>18</td>\n",
              "      <td>0.712860</td>\n",
              "      <td>278742ad31884904b591c0db243c7e7b</td>\n",
              "    </tr>\n",
              "    <tr>\n",
              "      <th>12</th>\n",
              "      <td>k-NN</td>\n",
              "      <td>7</td>\n",
              "      <td>0.709534</td>\n",
              "      <td>460ccc8141c84b46b8d68a11da69755b</td>\n",
              "    </tr>\n",
              "    <tr>\n",
              "      <th>13</th>\n",
              "      <td>k-NN</td>\n",
              "      <td>6</td>\n",
              "      <td>0.702882</td>\n",
              "      <td>08da7972ce844f04ac5bc3b760b82fb0</td>\n",
              "    </tr>\n",
              "    <tr>\n",
              "      <th>14</th>\n",
              "      <td>k-NN</td>\n",
              "      <td>5</td>\n",
              "      <td>0.697339</td>\n",
              "      <td>524dc1f5ecf54a81976d77185b0069ad</td>\n",
              "    </tr>\n",
              "    <tr>\n",
              "      <th>15</th>\n",
              "      <td>k-NN</td>\n",
              "      <td>4</td>\n",
              "      <td>0.691796</td>\n",
              "      <td>a3aed6d737794504acba2cc158601660</td>\n",
              "    </tr>\n",
              "    <tr>\n",
              "      <th>16</th>\n",
              "      <td>k-NN</td>\n",
              "      <td>3</td>\n",
              "      <td>0.681818</td>\n",
              "      <td>b42aa9378d5944fa95d04c0fd2b7e0a4</td>\n",
              "    </tr>\n",
              "    <tr>\n",
              "      <th>17</th>\n",
              "      <td>k-NN</td>\n",
              "      <td>2</td>\n",
              "      <td>0.676275</td>\n",
              "      <td>09aa1f784655487ea0dccaf3abb11f78</td>\n",
              "    </tr>\n",
              "    <tr>\n",
              "      <th>18</th>\n",
              "      <td>k-NN</td>\n",
              "      <td>1</td>\n",
              "      <td>0.662971</td>\n",
              "      <td>fb3c3b80affd409a8dfff9d338fac48d</td>\n",
              "    </tr>\n",
              "  </tbody>\n",
              "</table>\n",
              "</div>"
            ],
            "text/plain": [
              "   tags.Name  ...                            run_id\n",
              "0       k-NN  ...  d7d3195d6d514c32b531231b7f662444\n",
              "1       k-NN  ...  7a0cf6ce0e294b11b9ad4645172655df\n",
              "2       k-NN  ...  dde06d044ed34b1192aa926919715e9a\n",
              "3       k-NN  ...  a89739c5de9e49e3bc80b3b3fb86e1f8\n",
              "4       k-NN  ...  e640f564ae484e398067423ce2b58c53\n",
              "5       k-NN  ...  01fd10085187494182efc167bf2775b6\n",
              "6       k-NN  ...  cdedd6886a894c89891a5d1612b36c0e\n",
              "7       k-NN  ...  41a067c749da41c0acf2564169d1fdf2\n",
              "8       k-NN  ...  8a42d3a8c028482d888a4e5c58a536f6\n",
              "9       k-NN  ...  55d08674996c4a069a4cae6798619dc1\n",
              "10      k-NN  ...  2d8f7e667676440599b85cfb003eb43a\n",
              "11      k-NN  ...  278742ad31884904b591c0db243c7e7b\n",
              "12      k-NN  ...  460ccc8141c84b46b8d68a11da69755b\n",
              "13      k-NN  ...  08da7972ce844f04ac5bc3b760b82fb0\n",
              "14      k-NN  ...  524dc1f5ecf54a81976d77185b0069ad\n",
              "15      k-NN  ...  a3aed6d737794504acba2cc158601660\n",
              "16      k-NN  ...  b42aa9378d5944fa95d04c0fd2b7e0a4\n",
              "17      k-NN  ...  09aa1f784655487ea0dccaf3abb11f78\n",
              "18      k-NN  ...  fb3c3b80affd409a8dfff9d338fac48d\n",
              "\n",
              "[19 rows x 4 columns]"
            ]
          },
          "metadata": {
            "tags": []
          }
        },
        {
          "output_type": "stream",
          "text": [
            "\n",
            "Avaliação do melhor modelo k-NN sobre o conjunto de teste:\n",
            "Accuracy = 0.7610202384252842\n",
            "F1-score = 0.6707410236822002\n",
            "Precision = 0.656203288490284\n",
            "Recall = 0.6859375\n"
          ],
          "name": "stdout"
        }
      ]
    },
    {
      "cell_type": "code",
      "metadata": {
        "colab": {
          "base_uri": "https://localhost:8080/",
          "height": 388
        },
        "id": "9804yB3ynGQI",
        "outputId": "ad5ee705-4de0-4d91-b1de-2497415ffcda"
      },
      "source": [
        "filter_string = \"tags.Name = 'MLP'\"\n",
        "resultMLP = mlflow.search_runs([experiment_id], filter_string=filter_string, order_by=[\"metrics.accuracy DESC\"])\n",
        "print('\\nResultado dos modelos MLP sobre o conjunto de validação:\\n')\n",
        "display(resultMLP[['tags.Name','params.hidden_layer_sizes','params.learning_rate_init','metrics.accuracy','run_id']])\n",
        "\n",
        "bestMLP_run_id = resultMLP.loc[0,'run_id']\n",
        "best_modelMLP = mlflow.sklearn.load_model(\"mlruns/\" + experiment_id + \"/\" + bestMLP_run_id + \"/artifacts/sklearn-model/\")\n",
        "y_pred = best_modelMLP.predict(X_test)\n",
        "\n",
        "metrics = eval_metrics(y_pred, y_test) \n",
        "print('\\nAvaliação do melhor modelo MLP sobre o conjunto de teste:\\nAccuracy = {}\\nF1-score = {}\\nPrecision = {}\\nRecall = {}'.format(metrics['accuracy'],metrics['f1'],metrics['precision'],metrics['recall']))"
      ],
      "execution_count": 184,
      "outputs": [
        {
          "output_type": "stream",
          "text": [
            "\n",
            "Resultado dos modelos MLP sobre o conjunto de validação:\n",
            "\n"
          ],
          "name": "stdout"
        },
        {
          "output_type": "display_data",
          "data": {
            "text/html": [
              "<div>\n",
              "<style scoped>\n",
              "    .dataframe tbody tr th:only-of-type {\n",
              "        vertical-align: middle;\n",
              "    }\n",
              "\n",
              "    .dataframe tbody tr th {\n",
              "        vertical-align: top;\n",
              "    }\n",
              "\n",
              "    .dataframe thead th {\n",
              "        text-align: right;\n",
              "    }\n",
              "</style>\n",
              "<table border=\"1\" class=\"dataframe\">\n",
              "  <thead>\n",
              "    <tr style=\"text-align: right;\">\n",
              "      <th></th>\n",
              "      <th>tags.Name</th>\n",
              "      <th>params.hidden_layer_sizes</th>\n",
              "      <th>params.learning_rate_init</th>\n",
              "      <th>metrics.accuracy</th>\n",
              "      <th>run_id</th>\n",
              "    </tr>\n",
              "  </thead>\n",
              "  <tbody>\n",
              "    <tr>\n",
              "      <th>0</th>\n",
              "      <td>MLP</td>\n",
              "      <td>(100,)</td>\n",
              "      <td>0.001</td>\n",
              "      <td>0.733925</td>\n",
              "      <td>ecf17e652f154477abecd1a9e23f00f7</td>\n",
              "    </tr>\n",
              "    <tr>\n",
              "      <th>1</th>\n",
              "      <td>MLP</td>\n",
              "      <td>(100, 100, 100)</td>\n",
              "      <td>0.001</td>\n",
              "      <td>0.732816</td>\n",
              "      <td>b6a4483349e4418b8df6f86764947e00</td>\n",
              "    </tr>\n",
              "    <tr>\n",
              "      <th>2</th>\n",
              "      <td>MLP</td>\n",
              "      <td>(100, 100)</td>\n",
              "      <td>0.001</td>\n",
              "      <td>0.731707</td>\n",
              "      <td>29911b7e0ced467299396ef772a94a89</td>\n",
              "    </tr>\n",
              "    <tr>\n",
              "      <th>3</th>\n",
              "      <td>MLP</td>\n",
              "      <td>(100, 100, 100)</td>\n",
              "      <td>0.01</td>\n",
              "      <td>0.727273</td>\n",
              "      <td>93fa24c8fa6d44438dd7753ff8475cec</td>\n",
              "    </tr>\n",
              "    <tr>\n",
              "      <th>4</th>\n",
              "      <td>MLP</td>\n",
              "      <td>(100,)</td>\n",
              "      <td>0.01</td>\n",
              "      <td>0.720621</td>\n",
              "      <td>56015f23bf1d40baa951e48480b15844</td>\n",
              "    </tr>\n",
              "    <tr>\n",
              "      <th>5</th>\n",
              "      <td>MLP</td>\n",
              "      <td>(100, 100)</td>\n",
              "      <td>0.01</td>\n",
              "      <td>0.713969</td>\n",
              "      <td>d8c7763467a94f4aa837c0008d6d1e5b</td>\n",
              "    </tr>\n",
              "  </tbody>\n",
              "</table>\n",
              "</div>"
            ],
            "text/plain": [
              "  tags.Name  ...                            run_id\n",
              "0       MLP  ...  ecf17e652f154477abecd1a9e23f00f7\n",
              "1       MLP  ...  b6a4483349e4418b8df6f86764947e00\n",
              "2       MLP  ...  29911b7e0ced467299396ef772a94a89\n",
              "3       MLP  ...  93fa24c8fa6d44438dd7753ff8475cec\n",
              "4       MLP  ...  56015f23bf1d40baa951e48480b15844\n",
              "5       MLP  ...  d8c7763467a94f4aa837c0008d6d1e5b\n",
              "\n",
              "[6 rows x 5 columns]"
            ]
          },
          "metadata": {
            "tags": []
          }
        },
        {
          "output_type": "stream",
          "text": [
            "\n",
            "Avaliação do melhor modelo MLP sobre o conjunto de teste:\n",
            "Accuracy = 0.728860548932631\n",
            "F1-score = 0.6143533123028391\n",
            "Precision = 0.5822122571001495\n",
            "Recall = 0.6502504173622704\n"
          ],
          "name": "stdout"
        }
      ]
    },
    {
      "cell_type": "code",
      "metadata": {
        "colab": {
          "base_uri": "https://localhost:8080/",
          "height": 233
        },
        "id": "vl4oNbdvnG4y",
        "outputId": "2191719e-882c-4856-d462-8ddc31ee92e2"
      },
      "source": [
        "filter_string = \"tags.Name = 'Naive_Bayes'\"\n",
        "resultNB = mlflow.search_runs([experiment_id], filter_string=filter_string, order_by=[\"metrics.accuracy DESC\"])\n",
        "print('\\nResultado do modelo Naive Bayes sobre o conjunto de validação:\\n')\n",
        "display(resultNB[['tags.Name','metrics.accuracy','run_id']])\n",
        "\n",
        "bestNB_run_id = resultNB.loc[0,'run_id']\n",
        "best_modelNB = mlflow.sklearn.load_model(\"mlruns/\" + experiment_id + \"/\" + bestNB_run_id + \"/artifacts/sklearn-model/\")\n",
        "y_pred = best_modelNB.predict(X_test)\n",
        "\n",
        "metrics = eval_metrics(y_pred, y_test) \n",
        "print('\\nAvaliação do melhor modelo Naive Bayes sobre o conjunto de teste:\\nAccuracy = {}\\nF1-score = {}\\nPrecision = {}\\nRecall = {}'.format(metrics['accuracy'],metrics['f1'],metrics['precision'],metrics['recall']))"
      ],
      "execution_count": 183,
      "outputs": [
        {
          "output_type": "stream",
          "text": [
            "\n",
            "Resultado do modelo Naive Bayes sobre o conjunto de validação:\n",
            "\n"
          ],
          "name": "stdout"
        },
        {
          "output_type": "display_data",
          "data": {
            "text/html": [
              "<div>\n",
              "<style scoped>\n",
              "    .dataframe tbody tr th:only-of-type {\n",
              "        vertical-align: middle;\n",
              "    }\n",
              "\n",
              "    .dataframe tbody tr th {\n",
              "        vertical-align: top;\n",
              "    }\n",
              "\n",
              "    .dataframe thead th {\n",
              "        text-align: right;\n",
              "    }\n",
              "</style>\n",
              "<table border=\"1\" class=\"dataframe\">\n",
              "  <thead>\n",
              "    <tr style=\"text-align: right;\">\n",
              "      <th></th>\n",
              "      <th>tags.Name</th>\n",
              "      <th>metrics.accuracy</th>\n",
              "      <th>run_id</th>\n",
              "    </tr>\n",
              "  </thead>\n",
              "  <tbody>\n",
              "    <tr>\n",
              "      <th>0</th>\n",
              "      <td>Naive_Bayes</td>\n",
              "      <td>0.741685</td>\n",
              "      <td>da805912c5914c5ca55784d8a633bec7</td>\n",
              "    </tr>\n",
              "  </tbody>\n",
              "</table>\n",
              "</div>"
            ],
            "text/plain": [
              "     tags.Name  metrics.accuracy                            run_id\n",
              "0  Naive_Bayes          0.741685  da805912c5914c5ca55784d8a633bec7"
            ]
          },
          "metadata": {
            "tags": []
          }
        },
        {
          "output_type": "stream",
          "text": [
            "\n",
            "Avaliação do melhor modelo Naive Bayes sobre o conjunto de teste:\n",
            "Accuracy = 0.7402273357360688\n",
            "F1-score = 0.6419564386702331\n",
            "Precision = 0.6278026905829597\n",
            "Recall = 0.656763096168882\n"
          ],
          "name": "stdout"
        }
      ]
    },
    {
      "cell_type": "code",
      "metadata": {
        "id": "nECpyY8CnGx2"
      },
      "source": [
        ""
      ],
      "execution_count": null,
      "outputs": []
    }
  ]
}