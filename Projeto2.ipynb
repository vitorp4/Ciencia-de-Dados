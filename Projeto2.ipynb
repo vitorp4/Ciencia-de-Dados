{
  "nbformat": 4,
  "nbformat_minor": 0,
  "metadata": {
    "colab": {
      "name": "Projeto2.ipynb",
      "provenance": [],
      "collapsed_sections": []
    },
    "kernelspec": {
      "name": "python3",
      "display_name": "Python 3"
    },
    "language_info": {
      "name": "python"
    }
  },
  "cells": [
    {
      "cell_type": "code",
      "metadata": {
        "id": "PfVwVZNGP9Ny",
        "colab": {
          "base_uri": "https://localhost:8080/"
        },
        "outputId": "2079f2ad-2cf7-4a46-f49a-0dbba3b7fcc9"
      },
      "source": [
        "import numpy as np\n",
        "import pandas as pd\n",
        "import seaborn as sns\n",
        "import matplotlib.pyplot as plt\n",
        "\n",
        "from sklearn.model_selection import train_test_split\n",
        "\n",
        "from sklearn.ensemble import RandomForestClassifier\n",
        "from sklearn.neighbors import KNeighborsClassifier\n",
        "from sklearn.neural_network import MLPClassifier\n",
        "from sklearn.naive_bayes import GaussianNB\n",
        "\n",
        "from sklearn.metrics import accuracy_score\n",
        "from sklearn.metrics import f1_score\n",
        "from sklearn.metrics import precision_score\n",
        "from sklearn.metrics import recall_score\n",
        "\n",
        "from google.colab import drive\n",
        "drive.mount('/content/gdrive')"
      ],
      "execution_count": 1,
      "outputs": [
        {
          "output_type": "stream",
          "text": [
            "Mounted at /content/gdrive\n"
          ],
          "name": "stdout"
        }
      ]
    },
    {
      "cell_type": "code",
      "metadata": {
        "colab": {
          "base_uri": "https://localhost:8080/"
        },
        "id": "EY7SRKDHla__",
        "outputId": "0641f9db-33d7-4787-c851-577fcb4c54d2"
      },
      "source": [
        "!pip install pyngrok --quiet\n",
        "!pip install mlflow --quiet\n",
        "\n",
        "import mlflow\n",
        "# run tracking UI in the background\n",
        "get_ipython().system_raw(\"mlflow ui --port 5000 &\") # run tracking UI in the background\n",
        "\n",
        "# create remote tunnel using ngrok.com to allow local port access\n",
        "\n",
        "from pyngrok import ngrok\n",
        "\n",
        "# Terminate open tunnels if exist\n",
        "ngrok.kill()\n",
        "\n",
        "# Setting the authtoken (optional)\n",
        "# Get your authtoken from https://dashboard.ngrok.com/auth\n",
        "NGROK_AUTH_TOKEN = \"1r8VzJGvVkDqYJDLNyNR12FZAIN_bYtBiBQEXBPv8DnzxKTB\"\n",
        "ngrok.set_auth_token(NGROK_AUTH_TOKEN)\n",
        "\n",
        "# Open an HTTPs tunnel on port 5000 for http://localhost:5000\n",
        "ngrok_tunnel = ngrok.connect(addr=\"5000\", proto=\"http\", bind_tls=True)\n",
        "print(\"MLflow Tracking UI:\", ngrok_tunnel.public_url)\n",
        "\n",
        "def eval_metrics(actual, pred):\n",
        "    acc = accuracy_score(actual, pred)\n",
        "    f1 = f1_score(actual, pred)\n",
        "    precision = precision_score(actual, pred)\n",
        "    recall = recall_score(actual, pred)\n",
        "    return acc, f1, precision, recall\n",
        "\n",
        "def mlflow_save(params, metrics):\n",
        "    with mlflow.start_run():\n",
        "        for key, value in params.items():\n",
        "            mlflow.log_param(key, value)\n",
        "\n",
        "        mlflow.log_metric(\"accuracy\", metrics[0])\n",
        "        mlflow.log_metric(\"f1\", metrics[1])\n",
        "        mlflow.log_metric(\"precision\", metrics[2])\n",
        "        mlflow.log_metric(\"recall\", metrics[3])"
      ],
      "execution_count": 2,
      "outputs": [
        {
          "output_type": "stream",
          "text": [
            "\u001b[?25l\r\u001b[K     |▍                               | 10kB 22.2MB/s eta 0:00:01\r\u001b[K     |▉                               | 20kB 27.1MB/s eta 0:00:01\r\u001b[K     |█▎                              | 30kB 30.4MB/s eta 0:00:01\r\u001b[K     |█▊                              | 40kB 33.6MB/s eta 0:00:01\r\u001b[K     |██▏                             | 51kB 20.9MB/s eta 0:00:01\r\u001b[K     |██▋                             | 61kB 22.5MB/s eta 0:00:01\r\u001b[K     |███                             | 71kB 23.3MB/s eta 0:00:01\r\u001b[K     |███▌                            | 81kB 24.0MB/s eta 0:00:01\r\u001b[K     |████                            | 92kB 25.0MB/s eta 0:00:01\r\u001b[K     |████▍                           | 102kB 26.3MB/s eta 0:00:01\r\u001b[K     |████▉                           | 112kB 26.3MB/s eta 0:00:01\r\u001b[K     |█████▎                          | 122kB 26.3MB/s eta 0:00:01\r\u001b[K     |█████▊                          | 133kB 26.3MB/s eta 0:00:01\r\u001b[K     |██████▏                         | 143kB 26.3MB/s eta 0:00:01\r\u001b[K     |██████▋                         | 153kB 26.3MB/s eta 0:00:01\r\u001b[K     |███████                         | 163kB 26.3MB/s eta 0:00:01\r\u001b[K     |███████▌                        | 174kB 26.3MB/s eta 0:00:01\r\u001b[K     |████████                        | 184kB 26.3MB/s eta 0:00:01\r\u001b[K     |████████▍                       | 194kB 26.3MB/s eta 0:00:01\r\u001b[K     |████████▉                       | 204kB 26.3MB/s eta 0:00:01\r\u001b[K     |█████████▎                      | 215kB 26.3MB/s eta 0:00:01\r\u001b[K     |█████████▊                      | 225kB 26.3MB/s eta 0:00:01\r\u001b[K     |██████████▏                     | 235kB 26.3MB/s eta 0:00:01\r\u001b[K     |██████████▌                     | 245kB 26.3MB/s eta 0:00:01\r\u001b[K     |███████████                     | 256kB 26.3MB/s eta 0:00:01\r\u001b[K     |███████████▍                    | 266kB 26.3MB/s eta 0:00:01\r\u001b[K     |███████████▉                    | 276kB 26.3MB/s eta 0:00:01\r\u001b[K     |████████████▎                   | 286kB 26.3MB/s eta 0:00:01\r\u001b[K     |████████████▊                   | 296kB 26.3MB/s eta 0:00:01\r\u001b[K     |█████████████▏                  | 307kB 26.3MB/s eta 0:00:01\r\u001b[K     |█████████████▋                  | 317kB 26.3MB/s eta 0:00:01\r\u001b[K     |██████████████                  | 327kB 26.3MB/s eta 0:00:01\r\u001b[K     |██████████████▌                 | 337kB 26.3MB/s eta 0:00:01\r\u001b[K     |███████████████                 | 348kB 26.3MB/s eta 0:00:01\r\u001b[K     |███████████████▍                | 358kB 26.3MB/s eta 0:00:01\r\u001b[K     |███████████████▉                | 368kB 26.3MB/s eta 0:00:01\r\u001b[K     |████████████████▎               | 378kB 26.3MB/s eta 0:00:01\r\u001b[K     |████████████████▊               | 389kB 26.3MB/s eta 0:00:01\r\u001b[K     |█████████████████▏              | 399kB 26.3MB/s eta 0:00:01\r\u001b[K     |█████████████████▋              | 409kB 26.3MB/s eta 0:00:01\r\u001b[K     |██████████████████              | 419kB 26.3MB/s eta 0:00:01\r\u001b[K     |██████████████████▌             | 430kB 26.3MB/s eta 0:00:01\r\u001b[K     |███████████████████             | 440kB 26.3MB/s eta 0:00:01\r\u001b[K     |███████████████████▍            | 450kB 26.3MB/s eta 0:00:01\r\u001b[K     |███████████████████▉            | 460kB 26.3MB/s eta 0:00:01\r\u001b[K     |████████████████████▎           | 471kB 26.3MB/s eta 0:00:01\r\u001b[K     |████████████████████▊           | 481kB 26.3MB/s eta 0:00:01\r\u001b[K     |█████████████████████           | 491kB 26.3MB/s eta 0:00:01\r\u001b[K     |█████████████████████▌          | 501kB 26.3MB/s eta 0:00:01\r\u001b[K     |██████████████████████          | 512kB 26.3MB/s eta 0:00:01\r\u001b[K     |██████████████████████▍         | 522kB 26.3MB/s eta 0:00:01\r\u001b[K     |██████████████████████▉         | 532kB 26.3MB/s eta 0:00:01\r\u001b[K     |███████████████████████▎        | 542kB 26.3MB/s eta 0:00:01\r\u001b[K     |███████████████████████▊        | 552kB 26.3MB/s eta 0:00:01\r\u001b[K     |████████████████████████▏       | 563kB 26.3MB/s eta 0:00:01\r\u001b[K     |████████████████████████▋       | 573kB 26.3MB/s eta 0:00:01\r\u001b[K     |█████████████████████████       | 583kB 26.3MB/s eta 0:00:01\r\u001b[K     |█████████████████████████▌      | 593kB 26.3MB/s eta 0:00:01\r\u001b[K     |██████████████████████████      | 604kB 26.3MB/s eta 0:00:01\r\u001b[K     |██████████████████████████▍     | 614kB 26.3MB/s eta 0:00:01\r\u001b[K     |██████████████████████████▉     | 624kB 26.3MB/s eta 0:00:01\r\u001b[K     |███████████████████████████▎    | 634kB 26.3MB/s eta 0:00:01\r\u001b[K     |███████████████████████████▊    | 645kB 26.3MB/s eta 0:00:01\r\u001b[K     |████████████████████████████▏   | 655kB 26.3MB/s eta 0:00:01\r\u001b[K     |████████████████████████████▋   | 665kB 26.3MB/s eta 0:00:01\r\u001b[K     |█████████████████████████████   | 675kB 26.3MB/s eta 0:00:01\r\u001b[K     |█████████████████████████████▌  | 686kB 26.3MB/s eta 0:00:01\r\u001b[K     |██████████████████████████████  | 696kB 26.3MB/s eta 0:00:01\r\u001b[K     |██████████████████████████████▍ | 706kB 26.3MB/s eta 0:00:01\r\u001b[K     |██████████████████████████████▉ | 716kB 26.3MB/s eta 0:00:01\r\u001b[K     |███████████████████████████████▏| 727kB 26.3MB/s eta 0:00:01\r\u001b[K     |███████████████████████████████▋| 737kB 26.3MB/s eta 0:00:01\r\u001b[K     |████████████████████████████████| 747kB 26.3MB/s \n",
            "\u001b[?25h  Building wheel for pyngrok (setup.py) ... \u001b[?25l\u001b[?25hdone\n",
            "\u001b[K     |████████████████████████████████| 14.2MB 290kB/s \n",
            "\u001b[K     |████████████████████████████████| 163kB 46.7MB/s \n",
            "\u001b[K     |████████████████████████████████| 378kB 41.2MB/s \n",
            "\u001b[K     |████████████████████████████████| 61kB 7.7MB/s \n",
            "\u001b[K     |████████████████████████████████| 153kB 48.3MB/s \n",
            "\u001b[K     |████████████████████████████████| 1.1MB 36.1MB/s \n",
            "\u001b[K     |████████████████████████████████| 71kB 7.9MB/s \n",
            "\u001b[K     |████████████████████████████████| 61kB 7.7MB/s \n",
            "\u001b[K     |████████████████████████████████| 81kB 8.4MB/s \n",
            "\u001b[?25h  Building wheel for prometheus-flask-exporter (setup.py) ... \u001b[?25l\u001b[?25hdone\n",
            "  Building wheel for gunicorn (setup.py) ... \u001b[?25l\u001b[?25hdone\n",
            "  Building wheel for databricks-cli (setup.py) ... \u001b[?25l\u001b[?25hdone\n",
            "  Building wheel for alembic (setup.py) ... \u001b[?25l\u001b[?25hdone\n",
            "MLflow Tracking UI: https://97ed6405d2a9.ngrok.io\n"
          ],
          "name": "stdout"
        }
      ]
    },
    {
      "cell_type": "code",
      "metadata": {
        "colab": {
          "base_uri": "https://localhost:8080/",
          "height": 252
        },
        "id": "6IDay3HDK8S0",
        "outputId": "d7318c95-5a4b-4e9d-ff9f-074aa9cc24a2"
      },
      "source": [
        "DEMO = pd.read_sas('/content/gdrive/My Drive/11º Período/Ciencia de Dados/DEMO_J.XPT', index='SEQN')\n",
        "DEMO = DEMO[['RIAGENDR', 'RIDAGEYR', 'DMDEDUC2', 'DMDMARTL']]\n",
        "\n",
        "BMX = pd.read_sas('/content/gdrive/My Drive/11º Período/Ciencia de Dados/BMX_J.XPT', index='SEQN')\n",
        "BMX = BMX[['BMXWT', 'BMXHT']]\n",
        "\n",
        "BPX = pd.read_sas('/content/gdrive/My Drive/11º Período/Ciencia de Dados/BPX_J.XPT', index='SEQN') \n",
        "BPX = BPX[['BPXSY1', 'BPXDI1', 'BPXSY2', 'BPXDI2']]\n",
        "\n",
        "BPQ = pd.read_sas('/content/gdrive/My Drive/11º Período/Ciencia de Dados/BPQ_J.XPT', index='SEQN') \n",
        "BPQ = BPQ[['BPQ020', 'BPQ080']]\n",
        "\n",
        "df = pd.merge(DEMO, BMX, left_index=True, right_index=True, how='inner')\n",
        "df = pd.merge(df, BPX, left_index=True, right_index=True, how='inner')\n",
        "df = pd.merge(df, BPQ, left_index=True, right_index=True, how='inner')\n",
        "\n",
        "df.columns = ['Gender','Age','Education','Marital','Weight','Height','Systole1','Diastole1','Systole2','Diastole2','High_Pressure','High_Cholesterol']\n",
        "df.Gender = df.Gender.replace({1.0: 'Male', 2.0: 'Female'})\n",
        "df.Education = df.Education.replace({1.0: '-9th', 2.0: '9-11th', 3.0: 'High School', 4.0: 'Some College', 5.0: 'Graduate+', 7.0: 'Refused', 8.0: 'Don\\'t Know'})\n",
        "df.Marital = df.Marital.replace({1.0: 'Married', 2.0: 'Widowed', 3.0: 'Divorced', 4.0: 'Separated', 5.0: 'Never Married', 6.0: 'Living With Partner', 77: 'Refused', 99: 'Don\\'t Know'})\n",
        "df.High_Pressure = df.High_Pressure.replace({1.0: 'Yes', 2.0: 'No', 7.0: 'Refused', 9.0: 'Don\\'t Know'})\n",
        "df.High_Cholesterol = df.High_Cholesterol.replace({1.0: 'Yes', 2.0: 'No', 7.0: 'Refused', 9.0: 'Don\\'t Know'})\n",
        "display(df.head())\n",
        "df.shape"
      ],
      "execution_count": 3,
      "outputs": [
        {
          "output_type": "display_data",
          "data": {
            "text/html": [
              "<div>\n",
              "<style scoped>\n",
              "    .dataframe tbody tr th:only-of-type {\n",
              "        vertical-align: middle;\n",
              "    }\n",
              "\n",
              "    .dataframe tbody tr th {\n",
              "        vertical-align: top;\n",
              "    }\n",
              "\n",
              "    .dataframe thead th {\n",
              "        text-align: right;\n",
              "    }\n",
              "</style>\n",
              "<table border=\"1\" class=\"dataframe\">\n",
              "  <thead>\n",
              "    <tr style=\"text-align: right;\">\n",
              "      <th></th>\n",
              "      <th>Gender</th>\n",
              "      <th>Age</th>\n",
              "      <th>Education</th>\n",
              "      <th>Marital</th>\n",
              "      <th>Weight</th>\n",
              "      <th>Height</th>\n",
              "      <th>Systole1</th>\n",
              "      <th>Diastole1</th>\n",
              "      <th>Systole2</th>\n",
              "      <th>Diastole2</th>\n",
              "      <th>High_Pressure</th>\n",
              "      <th>High_Cholesterol</th>\n",
              "    </tr>\n",
              "    <tr>\n",
              "      <th>SEQN</th>\n",
              "      <th></th>\n",
              "      <th></th>\n",
              "      <th></th>\n",
              "      <th></th>\n",
              "      <th></th>\n",
              "      <th></th>\n",
              "      <th></th>\n",
              "      <th></th>\n",
              "      <th></th>\n",
              "      <th></th>\n",
              "      <th></th>\n",
              "      <th></th>\n",
              "    </tr>\n",
              "  </thead>\n",
              "  <tbody>\n",
              "    <tr>\n",
              "      <th>93705.0</th>\n",
              "      <td>Female</td>\n",
              "      <td>66.0</td>\n",
              "      <td>9-11th</td>\n",
              "      <td>Divorced</td>\n",
              "      <td>79.5</td>\n",
              "      <td>158.3</td>\n",
              "      <td>NaN</td>\n",
              "      <td>NaN</td>\n",
              "      <td>NaN</td>\n",
              "      <td>NaN</td>\n",
              "      <td>Yes</td>\n",
              "      <td>No</td>\n",
              "    </tr>\n",
              "    <tr>\n",
              "      <th>93706.0</th>\n",
              "      <td>Male</td>\n",
              "      <td>18.0</td>\n",
              "      <td>NaN</td>\n",
              "      <td>NaN</td>\n",
              "      <td>66.3</td>\n",
              "      <td>175.7</td>\n",
              "      <td>112.0</td>\n",
              "      <td>74.0</td>\n",
              "      <td>114.0</td>\n",
              "      <td>70.0</td>\n",
              "      <td>No</td>\n",
              "      <td>No</td>\n",
              "    </tr>\n",
              "    <tr>\n",
              "      <th>93708.0</th>\n",
              "      <td>Female</td>\n",
              "      <td>66.0</td>\n",
              "      <td>-9th</td>\n",
              "      <td>Married</td>\n",
              "      <td>53.5</td>\n",
              "      <td>150.2</td>\n",
              "      <td>NaN</td>\n",
              "      <td>NaN</td>\n",
              "      <td>138.0</td>\n",
              "      <td>78.0</td>\n",
              "      <td>Yes</td>\n",
              "      <td>Yes</td>\n",
              "    </tr>\n",
              "    <tr>\n",
              "      <th>93709.0</th>\n",
              "      <td>Female</td>\n",
              "      <td>75.0</td>\n",
              "      <td>Some College</td>\n",
              "      <td>Widowed</td>\n",
              "      <td>88.8</td>\n",
              "      <td>151.1</td>\n",
              "      <td>120.0</td>\n",
              "      <td>66.0</td>\n",
              "      <td>118.0</td>\n",
              "      <td>66.0</td>\n",
              "      <td>Yes</td>\n",
              "      <td>No</td>\n",
              "    </tr>\n",
              "    <tr>\n",
              "      <th>93711.0</th>\n",
              "      <td>Male</td>\n",
              "      <td>56.0</td>\n",
              "      <td>Graduate+</td>\n",
              "      <td>Married</td>\n",
              "      <td>62.1</td>\n",
              "      <td>170.6</td>\n",
              "      <td>108.0</td>\n",
              "      <td>68.0</td>\n",
              "      <td>94.0</td>\n",
              "      <td>68.0</td>\n",
              "      <td>No</td>\n",
              "      <td>Yes</td>\n",
              "    </tr>\n",
              "  </tbody>\n",
              "</table>\n",
              "</div>"
            ],
            "text/plain": [
              "         Gender   Age     Education  ... Diastole2  High_Pressure  High_Cholesterol\n",
              "SEQN                                 ...                                           \n",
              "93705.0  Female  66.0        9-11th  ...       NaN            Yes                No\n",
              "93706.0    Male  18.0           NaN  ...      70.0             No                No\n",
              "93708.0  Female  66.0          -9th  ...      78.0            Yes               Yes\n",
              "93709.0  Female  75.0  Some College  ...      66.0            Yes                No\n",
              "93711.0    Male  56.0     Graduate+  ...      68.0             No               Yes\n",
              "\n",
              "[5 rows x 12 columns]"
            ]
          },
          "metadata": {
            "tags": []
          }
        },
        {
          "output_type": "execute_result",
          "data": {
            "text/plain": [
              "(5828, 12)"
            ]
          },
          "metadata": {
            "tags": []
          },
          "execution_count": 3
        }
      ]
    },
    {
      "cell_type": "code",
      "metadata": {
        "colab": {
          "base_uri": "https://localhost:8080/"
        },
        "id": "uCL76G_vNgV7",
        "outputId": "1fb6c953-1b16-40fa-e82e-467f69a2887a"
      },
      "source": [
        "df = df[(df.High_Pressure.isin(['Yes','No'])) & (df.High_Cholesterol.isin(['Yes','No']))]\n",
        "df = df.dropna()\n",
        "df.shape"
      ],
      "execution_count": 4,
      "outputs": [
        {
          "output_type": "execute_result",
          "data": {
            "text/plain": [
              "(4476, 12)"
            ]
          },
          "metadata": {
            "tags": []
          },
          "execution_count": 4
        }
      ]
    },
    {
      "cell_type": "code",
      "metadata": {
        "colab": {
          "base_uri": "https://localhost:8080/",
          "height": 279
        },
        "id": "9CcUTzTSrOOi",
        "outputId": "dd685ea3-e780-4082-a3ff-ed88e0cbb987"
      },
      "source": [
        "sns.scatterplot(data=df, x='Systole1', y='Systole2', hue='High_Pressure');"
      ],
      "execution_count": 5,
      "outputs": [
        {
          "output_type": "display_data",
          "data": {
            "image/png": "[encoded data removed]",
            "text/plain": [
              "<Figure size 432x288 with 1 Axes>"
            ]
          },
          "metadata": {
            "tags": [],
            "needs_background": "light"
          }
        }
      ]
    },
    {
      "cell_type": "code",
      "metadata": {
        "id": "pDxj3Abni8Zh"
      },
      "source": [
        "df['Gender'] = df['Gender'].astype('category')\n",
        "df['Education'] = df['Education'].astype('category')\n",
        "df['Marital'] = df['Marital'].astype('category')\n",
        "df['High_Pressure'] = df['High_Pressure'].astype('category')\n",
        "df['High_Cholesterol'] = df['High_Cholesterol'].astype('category')\n",
        "\n",
        "df['Gender'] = df['Gender'].cat.codes\n",
        "df['Education'] = df['Education'].cat.codes\n",
        "df['Marital'] = df['Marital'].cat.codes\n",
        "df['High_Pressure'] = df['High_Pressure'].cat.codes\n",
        "df['High_Cholesterol'] = df['High_Cholesterol'].cat.codes"
      ],
      "execution_count": 6,
      "outputs": []
    },
    {
      "cell_type": "code",
      "metadata": {
        "id": "H5Arlv-fbIFf"
      },
      "source": [
        "X = df.drop(columns='High_Pressure')\n",
        "y = df.High_Pressure\n",
        "\n",
        "X_train, X_test, y_train, y_test = train_test_split(X, y)"
      ],
      "execution_count": 7,
      "outputs": []
    },
    {
      "cell_type": "code",
      "metadata": {
        "id": "7aZaCcXigpk5"
      },
      "source": [
        "for n_estimators in [1,10,100,1000]:\n",
        "    modelRF = RandomForestClassifier(n_estimators=n_estimators)\n",
        "    modelRF.fit(X_train, y_train)\n",
        "    y_pred = modelRF.predict(X_test)\n",
        "\n",
        "    mlflow_save({'n_estimators':n_estimators}, eval_metrics(y_test, y_pred))"
      ],
      "execution_count": 8,
      "outputs": []
    },
    {
      "cell_type": "code",
      "metadata": {
        "id": "PE_Ujv2uh2ug"
      },
      "source": [
        "for n_neighbors in range(1,20):\n",
        "    modelKNN = KNeighborsClassifier(n_neighbors=n_neighbors)\n",
        "    modelKNN.fit(X_train, y_train)\n",
        "    y_pred = modelKNN.predict(X_test)\n",
        "\n",
        "    mlflow_save({'n_neighbors':n_neighbors}, eval_metrics(y_test, y_pred))"
      ],
      "execution_count": 10,
      "outputs": []
    },
    {
      "cell_type": "code",
      "metadata": {
        "colab": {
          "base_uri": "https://localhost:8080/"
        },
        "id": "DgqMj1qKpIWj",
        "outputId": "c9b00492-0962-4d4f-897b-b6832f73de94"
      },
      "source": [
        "for hidden_layer_sizes in [(100,),(100,100,),(100,100,100,)]:\n",
        "    for learning_rate_init in [1,0.1,0.001]:\n",
        "        for activation in ['tanh','identity']:\n",
        "            modelMLP = MLPClassifier(hidden_layer_sizes=hidden_layer_sizes, learning_rate_init=learning_rate, activation=activation, early_stopping=True, max_iter=1000, validation_fraction=0.2, solver='sgd')\n",
        "            modelMLP.fit(X_train, y_train)\n",
        "            y_pred = modelMLP.predict(X_test)\n",
        "\n",
        "            mlflow_save({'hidden_layer_sizes':hidden_layer_sizes, 'learning_rate_init':learning_rate, 'activation':activation}, eval_metrics(y_test, y_pred))"
      ],
      "execution_count": 15,
      "outputs": [
        {
          "output_type": "stream",
          "text": [
            "/usr/local/lib/python3.7/dist-packages/sklearn/metrics/_classification.py:1272: UndefinedMetricWarning: Precision is ill-defined and being set to 0.0 due to no predicted samples. Use `zero_division` parameter to control this behavior.\n",
            "  _warn_prf(average, modifier, msg_start, len(result))\n",
            "/usr/local/lib/python3.7/dist-packages/sklearn/metrics/_classification.py:1272: UndefinedMetricWarning: Precision is ill-defined and being set to 0.0 due to no predicted samples. Use `zero_division` parameter to control this behavior.\n",
            "  _warn_prf(average, modifier, msg_start, len(result))\n",
            "/usr/local/lib/python3.7/dist-packages/sklearn/metrics/_classification.py:1272: UndefinedMetricWarning: Precision is ill-defined and being set to 0.0 due to no predicted samples. Use `zero_division` parameter to control this behavior.\n",
            "  _warn_prf(average, modifier, msg_start, len(result))\n",
            "/usr/local/lib/python3.7/dist-packages/sklearn/utils/extmath.py:151: RuntimeWarning: overflow encountered in matmul\n",
            "  ret = a @ b\n",
            "/usr/local/lib/python3.7/dist-packages/sklearn/utils/extmath.py:151: RuntimeWarning: invalid value encountered in matmul\n",
            "  ret = a @ b\n",
            "/usr/local/lib/python3.7/dist-packages/sklearn/metrics/_classification.py:1272: UndefinedMetricWarning: Precision is ill-defined and being set to 0.0 due to no predicted samples. Use `zero_division` parameter to control this behavior.\n",
            "  _warn_prf(average, modifier, msg_start, len(result))\n",
            "/usr/local/lib/python3.7/dist-packages/sklearn/utils/extmath.py:151: RuntimeWarning: overflow encountered in matmul\n",
            "  ret = a @ b\n",
            "/usr/local/lib/python3.7/dist-packages/sklearn/utils/extmath.py:151: RuntimeWarning: invalid value encountered in matmul\n",
            "  ret = a @ b\n",
            "/usr/local/lib/python3.7/dist-packages/sklearn/metrics/_classification.py:1272: UndefinedMetricWarning: Precision is ill-defined and being set to 0.0 due to no predicted samples. Use `zero_division` parameter to control this behavior.\n",
            "  _warn_prf(average, modifier, msg_start, len(result))\n",
            "/usr/local/lib/python3.7/dist-packages/sklearn/utils/extmath.py:151: RuntimeWarning: overflow encountered in matmul\n",
            "  ret = a @ b\n",
            "/usr/local/lib/python3.7/dist-packages/sklearn/utils/extmath.py:151: RuntimeWarning: invalid value encountered in matmul\n",
            "  ret = a @ b\n",
            "/usr/local/lib/python3.7/dist-packages/sklearn/metrics/_classification.py:1272: UndefinedMetricWarning: Precision is ill-defined and being set to 0.0 due to no predicted samples. Use `zero_division` parameter to control this behavior.\n",
            "  _warn_prf(average, modifier, msg_start, len(result))\n",
            "/usr/local/lib/python3.7/dist-packages/sklearn/utils/extmath.py:151: RuntimeWarning: overflow encountered in matmul\n",
            "  ret = a @ b\n",
            "/usr/local/lib/python3.7/dist-packages/sklearn/utils/extmath.py:151: RuntimeWarning: invalid value encountered in matmul\n",
            "  ret = a @ b\n",
            "/usr/local/lib/python3.7/dist-packages/sklearn/metrics/_classification.py:1272: UndefinedMetricWarning: Precision is ill-defined and being set to 0.0 due to no predicted samples. Use `zero_division` parameter to control this behavior.\n",
            "  _warn_prf(average, modifier, msg_start, len(result))\n",
            "/usr/local/lib/python3.7/dist-packages/sklearn/utils/extmath.py:151: RuntimeWarning: overflow encountered in matmul\n",
            "  ret = a @ b\n",
            "/usr/local/lib/python3.7/dist-packages/sklearn/utils/extmath.py:151: RuntimeWarning: invalid value encountered in matmul\n",
            "  ret = a @ b\n",
            "/usr/local/lib/python3.7/dist-packages/sklearn/metrics/_classification.py:1272: UndefinedMetricWarning: Precision is ill-defined and being set to 0.0 due to no predicted samples. Use `zero_division` parameter to control this behavior.\n",
            "  _warn_prf(average, modifier, msg_start, len(result))\n",
            "/usr/local/lib/python3.7/dist-packages/sklearn/utils/extmath.py:151: RuntimeWarning: overflow encountered in matmul\n",
            "  ret = a @ b\n",
            "/usr/local/lib/python3.7/dist-packages/sklearn/utils/extmath.py:151: RuntimeWarning: invalid value encountered in matmul\n",
            "  ret = a @ b\n",
            "/usr/local/lib/python3.7/dist-packages/sklearn/metrics/_classification.py:1272: UndefinedMetricWarning: Precision is ill-defined and being set to 0.0 due to no predicted samples. Use `zero_division` parameter to control this behavior.\n",
            "  _warn_prf(average, modifier, msg_start, len(result))\n"
          ],
          "name": "stderr"
        }
      ]
    },
    {
      "cell_type": "code",
      "metadata": {
        "id": "99RJzHn6r_Ps"
      },
      "source": [
        "modelNB = GaussianNB()\n",
        "modelNB.fit(X_train, y_train)\n",
        "y_pred = modelNB.predict(X_test)\n",
        "\n",
        "mlflow_save({}, eval_metrics(y_test, y_pred))"
      ],
      "execution_count": 16,
      "outputs": []
    },
    {
      "cell_type": "code",
      "metadata": {
        "id": "_GwuDHN-nItP"
      },
      "source": [
        ""
      ],
      "execution_count": null,
      "outputs": []
    }
  ]
}